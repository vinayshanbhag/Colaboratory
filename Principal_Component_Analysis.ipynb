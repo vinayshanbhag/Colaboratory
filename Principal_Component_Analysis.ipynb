{
  "nbformat": 4,
  "nbformat_minor": 0,
  "metadata": {
    "colab": {
      "name": "Principal Component Analysis.ipynb",
      "provenance": [],
      "collapsed_sections": [],
      "authorship_tag": "ABX9TyMKvhGe+3cdIs0fluigs0lA",
      "include_colab_link": true
    },
    "kernelspec": {
      "name": "python3",
      "display_name": "Python 3"
    }
  },
  "cells": [
    {
      "cell_type": "markdown",
      "metadata": {
        "id": "view-in-github",
        "colab_type": "text"
      },
      "source": [
        "<a href=\"https://colab.research.google.com/github/vinayshanbhag/math/blob/master/Principal_Component_Analysis.ipynb\" target=\"_parent\"><img src=\"https://colab.research.google.com/assets/colab-badge.svg\" alt=\"Open In Colab\"/></a>"
      ]
    },
    {
      "cell_type": "markdown",
      "metadata": {
        "id": "x_n0Lj6zNgDK",
        "colab_type": "text"
      },
      "source": [
        "## Principal Component Analysis (PCA)\n",
        "\n",
        "PCA is an unsupervised dimensionality reduction technique that can be used for feature extraction, wherein we can construct a lower dimensional subspace from a dataset with large number of features.\n",
        "\n",
        "The goal of PCA is to find directions of maximum variance in high-dimensional data and project the data into a new subspace with equal or fewer dimensions."
      ]
    },
    {
      "cell_type": "markdown",
      "metadata": {
        "id": "ZEQmTIJuBYlN",
        "colab_type": "text"
      },
      "source": [
        "PCA can be summarized in following steps-\n",
        "\n",
        "1. Standardize the $m$-dimensional dataset\n",
        "2. Create covariance matrix\n",
        "3. Perform eigen decomposition of the covariance matrix\n",
        "4. Sort eigenvectors in descending order of their corresponding eigenvalues\n",
        "5. Select $k$ eigenvectors with the largest eigenvalues, where $k$ is the number of principal components we are interested in $(k \\leq m)$\n",
        "6. Create projection matrix $W$ from top $k$ eigenvectors\n",
        "7. Transform the input dataset using $W$ to get new $k$-dimensional features \n",
        "\n"
      ]
    },
    {
      "cell_type": "code",
      "metadata": {
        "id": "dzSB1awPK0mK",
        "colab_type": "code",
        "colab": {}
      },
      "source": [
        "import numpy as np\n",
        "from sklearn.datasets import load_wine\n",
        "import matplotlib.pyplot as plt\n",
        "%matplotlib inline\n",
        "figsize=(10,5)"
      ],
      "execution_count": 35,
      "outputs": []
    },
    {
      "cell_type": "markdown",
      "metadata": {
        "id": "fpSv57BHUChk",
        "colab_type": "text"
      },
      "source": [
        "The open source UCI wine dataset built into sklearn has 13 features for each sample. The target is one of 3 cultivars from Italy. The targets are not used by PCA and are used here only for illustrating PCA results in the end."
      ]
    },
    {
      "cell_type": "code",
      "metadata": {
        "id": "_A5-L95fLe2v",
        "colab_type": "code",
        "colab": {
          "base_uri": "https://localhost:8080/",
          "height": 34
        },
        "outputId": "70f06467-3c21-4306-adb0-45e8f0218fcb"
      },
      "source": [
        "X, y = load_wine(return_X_y=True)\n",
        "print(f\"X.shape={X.shape}, y.shape={y.shape}\")"
      ],
      "execution_count": 4,
      "outputs": [
        {
          "output_type": "stream",
          "text": [
            "X.shape=(178, 13), y.shape=(178,)\n"
          ],
          "name": "stdout"
        }
      ]
    },
    {
      "cell_type": "markdown",
      "metadata": {
        "id": "tfuGo1hpMrwl",
        "colab_type": "text"
      },
      "source": [
        "### 1. Standardize the  $m$-dimensional dataset\n",
        "\n",
        "Feature-wise standardization of input $X$\n",
        "\n",
        "\\begin{align*}\n",
        "X_{std} = \\frac{(X - \\mu)}{\\sigma}\n",
        "\\end{align*}"
      ]
    },
    {
      "cell_type": "code",
      "metadata": {
        "id": "-paqWYWKEdxq",
        "colab_type": "code",
        "colab": {}
      },
      "source": [
        "X_std = (X-X.mean(axis=0))/X.std(axis=0)"
      ],
      "execution_count": 16,
      "outputs": []
    },
    {
      "cell_type": "markdown",
      "metadata": {
        "id": "mAPCjPaLOVdq",
        "colab_type": "text"
      },
      "source": [
        "### 2. Create covariance matrix\n",
        "\n",
        "Covariance between features $j$ and $k$ is given by &ndash;\n",
        "\n",
        "\\begin{align*}\n",
        "\\sigma_{jk}= \\frac{1}{n-1}\\displaystyle\\sum_{i=1}^{n}(x_j^{(i)}-\\mu_j)(x_k^{(i)}-\\mu_k)\n",
        "\\end{align*}\n",
        "\n",
        "A covariance matrix with $m$ features will look like this&ndash;\n",
        "\n",
        "\\begin{align*}\n",
        "\\Sigma = \\begin{bmatrix}\\sigma_{1}^2&\\sigma_{12}&\\ldots&\\sigma_{1m}\\\\\\sigma_{21}&\\sigma_{2}^2&\\ldots&\\sigma_{2m}\\\\\\vdots&\\vdots&\\ddots&\\vdots\\\\\\sigma_{m1}&\\sigma_{m2}&\\ldots&\\sigma_{m}^2\\end{bmatrix}\n",
        "\\end{align*}\n",
        "\n",
        "> $\\Sigma \\in \\mathbb{R}^{m\\mathbb{x}m}$\n"
      ]
    },
    {
      "cell_type": "code",
      "metadata": {
        "id": "I8BG8Zi2OS0a",
        "colab_type": "code",
        "colab": {
          "base_uri": "https://localhost:8080/",
          "height": 34
        },
        "outputId": "59eaecc9-2545-404d-dd02-5686905be4a6"
      },
      "source": [
        "cov_mat = np.cov(X_std.T)\n",
        "print(f\"Covariance matrix shape:{cov_mat.shape}\")"
      ],
      "execution_count": 24,
      "outputs": [
        {
          "output_type": "stream",
          "text": [
            "Covariance matrix shape:(13, 13)\n"
          ],
          "name": "stdout"
        }
      ]
    },
    {
      "cell_type": "markdown",
      "metadata": {
        "id": "cLHkdq0lOs1v",
        "colab_type": "text"
      },
      "source": [
        "### 3. Perform eigen decomposition of the covariance matrix\n",
        "\n",
        "We want to find eigenpairs of the covariance matrix such that&ndash;\n",
        "\n",
        "\\begin{align*}\n",
        "\\Sigma v = \\lambda v\n",
        "\\end{align*}\n",
        "\n",
        ">$\\lambda$ is a scalar, the eigenvalue\n",
        "\n",
        "Eigenvalues are simply the coefficients attached to eigenvectors, which give the axes magnitude. In this case, they are the measure of the data’s covariance."
      ]
    },
    {
      "cell_type": "code",
      "metadata": {
        "id": "8BxooHjjOgUF",
        "colab_type": "code",
        "colab": {}
      },
      "source": [
        "# Eigen decompose the covariance matrix\n",
        "eigen_values, eigen_vectors = np.linalg.eig(cov_mat)\n",
        "eigen_pairs = [(np.abs(eigen_values[i]), eigen_vectors[:,i]) for i in range(len(eigen_values))]"
      ],
      "execution_count": 32,
      "outputs": []
    },
    {
      "cell_type": "markdown",
      "metadata": {
        "id": "AG6re8KBMKDZ",
        "colab_type": "text"
      },
      "source": [
        "### 4. Sort eigenvectors \n",
        "\n",
        "Sort eigenvectors in descending order of their corresponding eigenvalues\n"
      ]
    },
    {
      "cell_type": "code",
      "metadata": {
        "id": "NmiYls2JMYAR",
        "colab_type": "code",
        "colab": {}
      },
      "source": [
        "# Sort the eigen pairs by eigen values in descending order\n",
        "eigen_pairs.sort(key=lambda k: k[0], reverse=True)"
      ],
      "execution_count": 33,
      "outputs": []
    },
    {
      "cell_type": "markdown",
      "metadata": {
        "id": "b3Mq1c9MMZ2I",
        "colab_type": "text"
      },
      "source": [
        "### 5. Select $k$ eigenvectors\n",
        "\n",
        "Since our goal is to reduce dimensionality, we want to only select the eigenvectors that contain most of the information (variance)\n",
        "\n",
        "Explained variance ratio = $\\frac{\\lambda_j}{\\sum_{j=1}^{d}\\lambda_j}$"
      ]
    },
    {
      "cell_type": "code",
      "metadata": {
        "id": "3zt6RKNLQ1IN",
        "colab_type": "code",
        "colab": {
          "base_uri": "https://localhost:8080/",
          "height": 369
        },
        "outputId": "193f5b3e-2460-48ac-c1d1-cea3cecefe6d"
      },
      "source": [
        "total_var = np.sum([i[0] for i in eigen_pairs])\n",
        "expl_var = [i[0]/total_var for i in eigen_pairs]\n",
        "cumulative_var = np.cumsum(expl_var)\n",
        "\n",
        "plt.figure(figsize=figsize)\n",
        "plt.bar(range(1,X.shape[1]+1), expl_var, alpha=0.5, align='center',label='Individual explained variance')\n",
        "plt.step(range(1,X.shape[1]+1), cumulative_var, where='mid',label='Cumulative explained variance')\n",
        "plt.ylabel('Explained variance ratio')\n",
        "plt.xlabel('Principal component')\n",
        "plt.legend(loc='best')\n",
        "plt.grid();\n",
        "plt.tight_layout();"
      ],
      "execution_count": 40,
      "outputs": [
        {
          "output_type": "display_data",
          "data": {
            "image/png": "[encoded data removed]",
            "text/plain": [
              "<Figure size 720x360 with 1 Axes>"
            ]
          },
          "metadata": {
            "tags": [],
            "needs_background": "light"
          }
        }
      ]
    },
    {
      "cell_type": "markdown",
      "metadata": {
        "id": "qE93F-_wR1MX",
        "colab_type": "text"
      },
      "source": [
        "We can see that first two principal components account for roughly 60% of the explained variance"
      ]
    },
    {
      "cell_type": "markdown",
      "metadata": {
        "id": "MHOO5j41Oyd1",
        "colab_type": "text"
      },
      "source": [
        "### 6. Create projection matrix $W$ from top $k$ eigenvectors\n",
        "\n",
        "Create the projection matrix $W$ using top $k$ eigenvectors. \n",
        "\n",
        "> $W \\in \\mathbb{R}^{m \\mathbb{x} k}$"
      ]
    },
    {
      "cell_type": "code",
      "metadata": {
        "id": "CcrymzqmSFi1",
        "colab_type": "code",
        "colab": {
          "base_uri": "https://localhost:8080/",
          "height": 34
        },
        "outputId": "29786f99-baf3-439b-d53f-42b260bfa0dd"
      },
      "source": [
        "w = np.hstack((eigen_pairs[0][1][:, np.newaxis],eigen_pairs[1][1][:, np.newaxis]))\n",
        "print(f\"Transformation matrix shape:{w.shape}\")"
      ],
      "execution_count": 46,
      "outputs": [
        {
          "output_type": "stream",
          "text": [
            "Transformation matrix shape:(13, 2)\n"
          ],
          "name": "stdout"
        }
      ]
    },
    {
      "cell_type": "markdown",
      "metadata": {
        "id": "kCcDWaBhQPRP",
        "colab_type": "text"
      },
      "source": [
        "### 7. Transform the input dataset using $W$\n",
        "\n",
        "\\begin{align*}\n",
        "X^\\prime = XW\n",
        "\\end{align*}\n",
        "\n",
        "> $X \\in \\mathbb{R}^{n\\mathbb{x}m}$ $n$ samples and $m$ features \\\\\n",
        "> $W \\in \\mathbb{R}^{m\\mathbb{x}k}$ $m$ features and $k$ components \\\\\n",
        "> $X^\\prime \\in \\mathbb{R}^{n\\mathbb{x}k}$ $n$ samples and $k$ principal components "
      ]
    },
    {
      "cell_type": "code",
      "metadata": {
        "id": "kXhR7rmvSO8G",
        "colab_type": "code",
        "colab": {
          "base_uri": "https://localhost:8080/",
          "height": 369
        },
        "outputId": "60816b4f-bcd8-4c78-a5f9-5a7054edeb72"
      },
      "source": [
        "X_pca = X_std.dot(w)\n",
        "plt.figure(figsize=figsize)\n",
        "colors =['tab:blue','tab:orange','tab:green']\n",
        "markers=list('svo')\n",
        "for l,c,m in zip(np.unique(y), colors, markers):\n",
        "    plt.scatter(X_pca[y==l, 0],\n",
        "                X_pca[y==l, 1],\n",
        "                color='white',\n",
        "                edgecolor=c,\n",
        "                label=l,\n",
        "                marker=m\n",
        "               )\n",
        "plt.xlabel('Principal Component 1')\n",
        "plt.ylabel('Principal Component 2')\n",
        "plt.grid();\n",
        "plt.legend()\n",
        "plt.tight_layout();"
      ],
      "execution_count": 55,
      "outputs": [
        {
          "output_type": "display_data",
          "data": {
            "image/png": "[encoded data removed]",
            "text/plain": [
              "<Figure size 720x360 with 1 Axes>"
            ]
          },
          "metadata": {
            "tags": [],
            "needs_background": "light"
          }
        }
      ]
    }
  ]
}