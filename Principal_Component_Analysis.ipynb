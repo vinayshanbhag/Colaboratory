{
  "nbformat": 4,
  "nbformat_minor": 0,
  "metadata": {
    "colab": {
      "name": "Principal Component Analysis.ipynb",
      "provenance": [],
      "authorship_tag": "ABX9TyNWNSqR5jhTZNK+BZqQhBxU",
      "include_colab_link": true
    },
    "kernelspec": {
      "name": "python3",
      "display_name": "Python 3"
    }
  },
  "cells": [
    {
      "cell_type": "markdown",
      "metadata": {
        "id": "view-in-github",
        "colab_type": "text"
      },
      "source": [
        "<a href=\"https://colab.research.google.com/github/vinayshanbhag/math/blob/master/Principal_Component_Analysis.ipynb\" target=\"_parent\"><img src=\"https://colab.research.google.com/assets/colab-badge.svg\" alt=\"Open In Colab\"/></a>"
      ]
    },
    {
      "cell_type": "code",
      "metadata": {
        "id": "dzSB1awPK0mK",
        "colab_type": "code",
        "colab": {}
      },
      "source": [
        "from sklearn.datasets import load_wine"
      ],
      "execution_count": 1,
      "outputs": []
    },
    {
      "cell_type": "code",
      "metadata": {
        "id": "_A5-L95fLe2v",
        "colab_type": "code",
        "colab": {}
      },
      "source": [
        "X, y = load_wine(return_X_y=True)"
      ],
      "execution_count": 4,
      "outputs": []
    },
    {
      "cell_type": "code",
      "metadata": {
        "id": "AFXVyCIjLn6h",
        "colab_type": "code",
        "colab": {
          "base_uri": "https://localhost:8080/",
          "height": 34
        },
        "outputId": "a0284e3f-2fdc-494b-ffe6-0042ef965bde"
      },
      "source": [
        "X.shape, y.shape"
      ],
      "execution_count": 5,
      "outputs": [
        {
          "output_type": "execute_result",
          "data": {
            "text/plain": [
              "((178, 13), (178,))"
            ]
          },
          "metadata": {
            "tags": []
          },
          "execution_count": 5
        }
      ]
    },
    {
      "cell_type": "code",
      "metadata": {
        "id": "9Mv-RITRLz0Q",
        "colab_type": "code",
        "colab": {}
      },
      "source": [
        "from sklearn.model_selection import train_test_split"
      ],
      "execution_count": 6,
      "outputs": []
    },
    {
      "cell_type": "code",
      "metadata": {
        "id": "L8hyo4ouL9YC",
        "colab_type": "code",
        "colab": {}
      },
      "source": [
        "X_train, X_test, y_train, y_test = train_test_split(X,y, test_size=0.3, stratify=y,random_state=1)"
      ],
      "execution_count": 7,
      "outputs": []
    },
    {
      "cell_type": "code",
      "metadata": {
        "id": "2ZUJaZzkMIda",
        "colab_type": "code",
        "colab": {
          "base_uri": "https://localhost:8080/",
          "height": 34
        },
        "outputId": "c5da75ba-d5ea-4b1b-958e-c03117cbf20a"
      },
      "source": [
        "X_train.shape"
      ],
      "execution_count": 8,
      "outputs": [
        {
          "output_type": "execute_result",
          "data": {
            "text/plain": [
              "(124, 13)"
            ]
          },
          "metadata": {
            "tags": []
          },
          "execution_count": 8
        }
      ]
    },
    {
      "cell_type": "markdown",
      "metadata": {
        "id": "tfuGo1hpMrwl",
        "colab_type": "text"
      },
      "source": [
        "### Scale features\n",
        "$X_{std} = \\frac{(X - \\mu)}{\\sigma}$"
      ]
    },
    {
      "cell_type": "code",
      "metadata": {
        "id": "XLEiAd2PMLZS",
        "colab_type": "code",
        "colab": {}
      },
      "source": [
        "from sklearn.preprocessing import StandardScaler"
      ],
      "execution_count": 9,
      "outputs": []
    },
    {
      "cell_type": "code",
      "metadata": {
        "id": "jiElTeIAMXEz",
        "colab_type": "code",
        "colab": {}
      },
      "source": [
        "ss = StandardScaler()\n",
        "X_train_std = ss.fit_transform(X_train)\n",
        "X_test_std = ss.transform(X_test)"
      ],
      "execution_count": 10,
      "outputs": []
    },
    {
      "cell_type": "markdown",
      "metadata": {
        "id": "mAPCjPaLOVdq",
        "colab_type": "text"
      },
      "source": [
        "### Covariance\n"
      ]
    },
    {
      "cell_type": "code",
      "metadata": {
        "id": "_CVPnWlZMj5T",
        "colab_type": "code",
        "colab": {}
      },
      "source": [
        "import numpy as np"
      ],
      "execution_count": 11,
      "outputs": []
    },
    {
      "cell_type": "code",
      "metadata": {
        "id": "I8BG8Zi2OS0a",
        "colab_type": "code",
        "colab": {}
      },
      "source": [
        "cov_mat = np.cov(X_train_std.T)"
      ],
      "execution_count": 14,
      "outputs": []
    },
    {
      "cell_type": "markdown",
      "metadata": {
        "id": "cLHkdq0lOs1v",
        "colab_type": "text"
      },
      "source": [
        "### Eigen Decomposition of the covariance matrix"
      ]
    },
    {
      "cell_type": "code",
      "metadata": {
        "id": "8BxooHjjOgUF",
        "colab_type": "code",
        "colab": {}
      },
      "source": [
        "eigen_values, eigen_vectors = np.linalg.eig(cov_mat)"
      ],
      "execution_count": 15,
      "outputs": []
    },
    {
      "cell_type": "code",
      "metadata": {
        "id": "h2rtZullO5K2",
        "colab_type": "code",
        "colab": {}
      },
      "source": [
        "eigen_pairs = [(np.abs(eigen_values[i]), eigen_vectors[:,i]) for i in range(len(eigen_values))]"
      ],
      "execution_count": 16,
      "outputs": []
    },
    {
      "cell_type": "code",
      "metadata": {
        "id": "nq0hSdUuQZI4",
        "colab_type": "code",
        "colab": {}
      },
      "source": [
        "eigen_pairs.sort(key=lambda k: k[0], reverse=True)"
      ],
      "execution_count": 18,
      "outputs": []
    },
    {
      "cell_type": "code",
      "metadata": {
        "id": "waz-qx4FQajR",
        "colab_type": "code",
        "colab": {}
      },
      "source": [
        "total_var = np.sum([i[0] for i in eigen_pairs])"
      ],
      "execution_count": 19,
      "outputs": []
    },
    {
      "cell_type": "code",
      "metadata": {
        "id": "3zt6RKNLQ1IN",
        "colab_type": "code",
        "colab": {}
      },
      "source": [
        "expl_var = [i[0]/total_var for i in eigen_pairs]"
      ],
      "execution_count": 23,
      "outputs": []
    },
    {
      "cell_type": "code",
      "metadata": {
        "id": "SnFfc1JcQ3IS",
        "colab_type": "code",
        "colab": {
          "base_uri": "https://localhost:8080/",
          "height": 70
        },
        "outputId": "7d981a84-44e0-4efb-f019-b92973fab8bc"
      },
      "source": [
        "cumulative_var = np.cumsum(expl_var)\n",
        "cumulative_var"
      ],
      "execution_count": 25,
      "outputs": [
        {
          "output_type": "execute_result",
          "data": {
            "text/plain": [
              "array([0.35935182, 0.56049075, 0.67931604, 0.75060008, 0.81555618,\n",
              "       0.85912266, 0.89457445, 0.92339001, 0.94442776, 0.9644992 ,\n",
              "       0.98064876, 0.99205753, 1.        ])"
            ]
          },
          "metadata": {
            "tags": []
          },
          "execution_count": 25
        }
      ]
    },
    {
      "cell_type": "code",
      "metadata": {
        "id": "Uh4_wCKTRIST",
        "colab_type": "code",
        "colab": {}
      },
      "source": [
        "import matplotlib.pyplot as plt\n",
        "%matplotlib inline"
      ],
      "execution_count": 26,
      "outputs": []
    },
    {
      "cell_type": "code",
      "metadata": {
        "id": "ylnbM-Q6RdBk",
        "colab_type": "code",
        "colab": {
          "base_uri": "https://localhost:8080/",
          "height": 297
        },
        "outputId": "9079af3b-cfaf-40da-fc12-306a87f014f5"
      },
      "source": [
        "plt.bar(range(1,14), expl_var, alpha=0.5, align='center',label='Individual explained variance')\n",
        "plt.step(range(1,14), cumulative_var, where='mid',label='Cumulative explained variance')\n",
        "plt.ylabel('Explained variance ratio')\n",
        "plt.xlabel('Principal component index')\n",
        "plt.legend(loc='best')\n",
        "plt.tight_layout()"
      ],
      "execution_count": 28,
      "outputs": [
        {
          "output_type": "display_data",
          "data": {
            "image/png": "[encoded data removed]",
            "text/plain": [
              "<Figure size 432x288 with 1 Axes>"
            ]
          },
          "metadata": {
            "tags": [],
            "needs_background": "light"
          }
        }
      ]
    },
    {
      "cell_type": "markdown",
      "metadata": {
        "id": "qE93F-_wR1MX",
        "colab_type": "text"
      },
      "source": [
        "First two principal components account for roughly 60% of the explained variance"
      ]
    },
    {
      "cell_type": "code",
      "metadata": {
        "id": "CcrymzqmSFi1",
        "colab_type": "code",
        "colab": {
          "base_uri": "https://localhost:8080/",
          "height": 246
        },
        "outputId": "1aa782a2-fa9a-4498-b29f-5d6ace1fad93"
      },
      "source": [
        "w = np.hstack((eigen_pairs[0][1][:, np.newaxis],eigen_pairs[1][1][:, np.newaxis]))\n",
        "w"
      ],
      "execution_count": 29,
      "outputs": [
        {
          "output_type": "execute_result",
          "data": {
            "text/plain": [
              "array([[-0.14119433, -0.46732089],\n",
              "       [ 0.24946815, -0.26876924],\n",
              "       [-0.05104853, -0.27660192],\n",
              "       [ 0.19890851,  0.01955098],\n",
              "       [-0.1444494 , -0.32120489],\n",
              "       [-0.40472564, -0.04839313],\n",
              "       [-0.42654202,  0.00936768],\n",
              "       [ 0.29573373, -0.00146817],\n",
              "       [-0.32620144, -0.04087554],\n",
              "       [ 0.07420694, -0.53982087],\n",
              "       [-0.29277478,  0.27536907],\n",
              "       [-0.37482201,  0.19149315],\n",
              "       [-0.2889145 , -0.34828709]])"
            ]
          },
          "metadata": {
            "tags": []
          },
          "execution_count": 29
        }
      ]
    },
    {
      "cell_type": "code",
      "metadata": {
        "id": "kXhR7rmvSO8G",
        "colab_type": "code",
        "colab": {}
      },
      "source": [
        "X_train_pca = X_train_std.dot(w)\n",
        "#X_train_pca"
      ],
      "execution_count": 32,
      "outputs": []
    },
    {
      "cell_type": "code",
      "metadata": {
        "id": "UUSMJe_0STz2",
        "colab_type": "code",
        "colab": {
          "base_uri": "https://localhost:8080/",
          "height": 297
        },
        "outputId": "13741336-71ab-4c4a-f603-48826ca70596"
      },
      "source": [
        "colors =list('rbg')\n",
        "markers=list('sxo')\n",
        "for l,c,m in zip(np.unique(y_train), colors, markers):\n",
        "    plt.scatter(X_train_pca[y_train==l, 0],\n",
        "                X_train_pca[y_train==l, 1],\n",
        "                c=c,\n",
        "                label=l,\n",
        "                marker=m\n",
        "               )\n",
        "plt.xlabel('PC 1')\n",
        "plt.ylabel('PC 2')\n",
        "plt.legend(loc='lower left')\n",
        "plt.tight_layout()"
      ],
      "execution_count": 33,
      "outputs": [
        {
          "output_type": "display_data",
          "data": {
            "image/png": "[encoded data removed]",
            "text/plain": [
              "<Figure size 432x288 with 1 Axes>"
            ]
          },
          "metadata": {
            "tags": [],
            "needs_background": "light"
          }
        }
      ]
    },
    {
      "cell_type": "code",
      "metadata": {
        "id": "ruqm4QloSu4g",
        "colab_type": "code",
        "colab": {}
      },
      "source": [
        ""
      ],
      "execution_count": null,
      "outputs": []
    }
  ]
}