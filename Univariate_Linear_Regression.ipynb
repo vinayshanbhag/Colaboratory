{
  "nbformat": 4,
  "nbformat_minor": 0,
  "metadata": {
    "colab": {
      "name": "Univariate Linear Regression.ipynb",
      "provenance": [],
      "collapsed_sections": [],
      "authorship_tag": "ABX9TyMc7qO7eujDe1pKbqzxUujR",
      "include_colab_link": true
    },
    "kernelspec": {
      "name": "python3",
      "display_name": "Python 3"
    }
  },
  "cells": [
    {
      "cell_type": "markdown",
      "metadata": {
        "id": "view-in-github",
        "colab_type": "text"
      },
      "source": [
        "<a href=\"https://colab.research.google.com/github/vinayshanbhag/math/blob/master/Univariate_Linear_Regression.ipynb\" target=\"_parent\"><img src=\"https://colab.research.google.com/assets/colab-badge.svg\" alt=\"Open In Colab\"/></a>"
      ]
    },
    {
      "cell_type": "markdown",
      "metadata": {
        "id": "C6aEEhs-Rgg0",
        "colab_type": "text"
      },
      "source": [
        "## Univariate Linear Regression\n",
        "\n",
        "The goal of univariate linear regression is to model the relationship between a single explanatory variable *x* and continuous valued target (response variable) *y*"
      ]
    },
    {
      "cell_type": "code",
      "metadata": {
        "id": "dL6WuajLqeI3",
        "colab_type": "code",
        "colab": {}
      },
      "source": [
        "import numpy as np\n",
        "import matplotlib.pyplot as plt\n",
        "%matplotlib inline"
      ],
      "execution_count": 585,
      "outputs": []
    },
    {
      "cell_type": "code",
      "metadata": {
        "id": "OUJO42xlsFIH",
        "colab_type": "code",
        "colab": {}
      },
      "source": [
        "x = np.linspace(1,10,20)\n",
        "m = np.random.uniform(0.2,0.25, len(x))\n",
        "c = np.random.uniform(-0.3,-0.1, len(x))\n",
        "y = m*x + c"
      ],
      "execution_count": 586,
      "outputs": []
    },
    {
      "cell_type": "code",
      "metadata": {
        "id": "tKk9ZlPxsqZ_",
        "colab_type": "code",
        "colab": {}
      },
      "source": [
        "def error(x,y, w0,w1):\n",
        "  z = w0+w1*x\n",
        "  return np.mean((y-z)**2)\n",
        "\n",
        "def plot(x,y,w0=None, w1=None, title=\"\"):\n",
        "  plt.scatter(x, y,marker='o');\n",
        "  plt.xlabel(\"X\");\n",
        "  plt.ylabel(\"Y\");\n",
        "  \n",
        "  plt.grid();\n",
        "  if w0!=None and w1!=None:\n",
        "    z = w1*x+w0\n",
        "    plt.plot(x, z,'g')\n",
        "    title += f\" MSE:{error(x,y,w0,w1):0.3f}\"\n",
        "    plt.vlines(x,y,z,colors='r',linestyles='dotted')\n",
        "  plt.title(title)"
      ],
      "execution_count": 587,
      "outputs": []
    },
    {
      "cell_type": "markdown",
      "metadata": {
        "id": "EYK9AzurSHyC",
        "colab_type": "text"
      },
      "source": [
        "Say we have a set of data points like this. The goal of univariate linear regression is to find the best fitting line, given these data points. "
      ]
    },
    {
      "cell_type": "code",
      "metadata": {
        "id": "hpE43HiMsse3",
        "colab_type": "code",
        "colab": {
          "base_uri": "https://localhost:8080/",
          "height": 279
        },
        "outputId": "032ae653-d1bc-4508-bfba-470e71c3e45f"
      },
      "source": [
        "plot(x,y)"
      ],
      "execution_count": 588,
      "outputs": [
        {
          "output_type": "display_data",
          "data": {
            "image/png": "[encoded data removed]",
            "text/plain": [
              "<Figure size 432x288 with 1 Axes>"
            ]
          },
          "metadata": {
            "tags": [],
            "needs_background": "light"
          }
        }
      ]
    },
    {
      "cell_type": "markdown",
      "metadata": {
        "id": "DwcBa-0oSsig",
        "colab_type": "text"
      },
      "source": [
        "The linear model can be described by\n",
        "\n",
        "$z_i = w_0 + w_1x_i$\n",
        "\n",
        "where $w_0$ is the y intercept, and $w_1$ is the slope\n"
      ]
    },
    {
      "cell_type": "markdown",
      "metadata": {
        "id": "eR6rokzvcC8V",
        "colab_type": "text"
      },
      "source": [
        "Considering an arbitrary line as shown below, we can compute the error (red lines) between actual data and predicted values.\n",
        "\n",
        "The squared error for each data point $i$ is given by \n",
        "\n",
        "SE = $(y_i-z_i)^2$\n",
        "\n",
        "The mean squared error is given by \n",
        "\n",
        "$MSE = \\frac{\\displaystyle\\sum_{i=1}^{n} (y_i-z_i)^2}{n}$ \n",
        "\n",
        "where $n$ is the number of samples in the dataset.\n",
        "\n",
        "$MSE = \\frac{\\displaystyle\\sum_{i=1}^{n} (y_i- w_0 - w_1x)^2}{n}$ \n",
        "\n"
      ]
    },
    {
      "cell_type": "code",
      "metadata": {
        "id": "D9RYaCrWuWn7",
        "colab_type": "code",
        "colab": {
          "base_uri": "https://localhost:8080/",
          "height": 295
        },
        "outputId": "62c39eef-ac5b-42b5-8a72-91662638666c"
      },
      "source": [
        "plot(x, y, 0.0,0.1)"
      ],
      "execution_count": 595,
      "outputs": [
        {
          "output_type": "display_data",
          "data": {
            "image/png": "[encoded data removed]",
            "text/plain": [
              "<Figure size 432x288 with 1 Axes>"
            ]
          },
          "metadata": {
            "tags": [],
            "needs_background": "light"
          }
        }
      ]
    },
    {
      "cell_type": "markdown",
      "metadata": {
        "id": "NWLOySm8hZPF",
        "colab_type": "text"
      },
      "source": [
        "To find the best fitting line, we would have to minimize this error. So the objective or cost function is given by\n",
        "\n",
        "$J(w_0,w_1) = \\frac{1}{2}MSE$\n",
        "\n",
        "$\\therefore J(w_0,w_1) = \\frac{1}{2n}\\displaystyle\\sum_{i=1}^{n} (y_i- w_0 - w_1x)^2$\n",
        "\n",
        "The $\\frac{1}{2}$ is for mathematical simplicity, so that it cancels out when we take the derivative."
      ]
    },
    {
      "cell_type": "markdown",
      "metadata": {
        "id": "m91ljBXoss9L",
        "colab_type": "text"
      },
      "source": [
        "Steps\n",
        "1. Initialize $w_0$ and $w_1$ to random values\n",
        "2. Compute z\n",
        "3. Compute J\n",
        "4. Compute $\\frac{\\partial J}{\\partial w_1}$\n",
        "5. Compute $\\frac{\\partial J}{\\partial w_0}$\n",
        "6. Update weights $w_0$ and $w_1$\n",
        "7. Go back to step 2 and iterate till convergence \n",
        "\n"
      ]
    },
    {
      "cell_type": "markdown",
      "metadata": {
        "id": "8T4IqECrlC9w",
        "colab_type": "text"
      },
      "source": [
        "Partial derivative of the cost function $J$ w.r.t. $z_1$ is given by-\n",
        "\n",
        "$\\frac{\\partial J}{\\partial z_1} = \\frac{1}{2n}[(y_1 - z_1)^2 + (y_2 - z_2)^2 + ...+(y_n - z_n)^2]$\n",
        "\n",
        "Since everything but the first term is a constant w.r.t. $z_1$ -\n",
        "\n",
        "$\\frac{\\partial J}{\\partial z_1} = \\frac{2}{2n}(y_1 - z_1)$\n",
        "\n",
        "$\\frac{\\partial J}{\\partial z_1} = \\frac{(y_1 - z_1)}{n}$\n",
        "\n",
        "In general -\n",
        "\n",
        "$\\frac{\\partial J}{\\partial z_i} = \\frac{(y_i-z_i)}{n}$"
      ]
    },
    {
      "cell_type": "markdown",
      "metadata": {
        "id": "J9ASAtp6u00z",
        "colab_type": "text"
      },
      "source": [
        "Partial derivative of $z_1$ w.r.t $w_1$\n",
        "\n",
        "$\\frac{\\partial z_1}{\\partial w_1} = \\frac{\\partial}{\\partial w_1}(w_1 x_1 + w_0)$\n",
        "\n",
        "$\\frac{\\partial z_1}{\\partial w_1} = x_1$\n",
        "\n",
        "In general\n",
        "\n",
        "$\\frac{\\partial z_i}{\\partial w_1} = x_i$"
      ]
    },
    {
      "cell_type": "markdown",
      "metadata": {
        "id": "bhegbDhzu8lh",
        "colab_type": "text"
      },
      "source": [
        "Partial derivative of $z_1$ w.r.t $w_0$\n",
        "\n",
        "$\\frac{\\partial z_1}{\\partial w_0} = \\frac{\\partial}{\\partial w_0}(w_1 x_1 + w_0)$\n",
        "\n",
        "In general\n",
        "\n",
        "$\\frac{\\partial z_i}{\\partial w_0} = 1$"
      ]
    },
    {
      "cell_type": "markdown",
      "metadata": {
        "id": "jZ5mhQ37vluL",
        "colab_type": "text"
      },
      "source": [
        "Partial derivative of $J$ w.r.t. $w_1$\n",
        "\n",
        "$\\frac{\\partial J}{\\partial w_1} = \\displaystyle\\sum_{i=1}^{n} \\frac{\\partial J}{\\partial z_i} \\frac{\\partial z_i}{\\partial w_1} $\n",
        "\n",
        "$\\frac{\\partial J}{\\partial w_1} = \\displaystyle\\sum_{i=1}^{n}\\frac{(y_i-z_i)}{n} x_i $\n"
      ]
    },
    {
      "cell_type": "markdown",
      "metadata": {
        "id": "qq2FqO8qwWWF",
        "colab_type": "text"
      },
      "source": [
        "Partial derivative of $J$ w.r.t $w_0$\n",
        "\n",
        "$\\frac{\\partial J}{\\partial w_0} = \\displaystyle\\sum_{i=1}^{n}\\frac{\\partial J}{\\partial z_i} \\frac{\\partial z_i}{\\partial w_0} $\n",
        "\n",
        "$\\frac{\\partial J}{\\partial w_0} = \\displaystyle\\sum_{i=1}^{n}\\frac{(y_i-z_i)}{n} 1$"
      ]
    },
    {
      "cell_type": "markdown",
      "metadata": {
        "id": "EixBipHyF582",
        "colab_type": "text"
      },
      "source": [
        "Compute new weights $w_0$ and $w_1$\n",
        "\n",
        "$w_{0_{new}} = w_0 - \\alpha \\frac{\\partial J}{\\partial w_0}$\n",
        "\n",
        "$w_{1_{new}} = w_1 - \\alpha \\frac{\\partial J}{\\partial w_1}$\n",
        "\n",
        "where $\\alpha$ is the learning rate\n"
      ]
    },
    {
      "cell_type": "code",
      "metadata": {
        "id": "HO0OSGCdzwUL",
        "colab_type": "code",
        "colab": {
          "base_uri": "https://localhost:8080/",
          "height": 34
        },
        "outputId": "5206ad88-8ffd-4d31-b3a7-be90d14044bb"
      },
      "source": [
        "w0, w1 = np.zeros(2)\n",
        "n = len(y)\n",
        "alpha = 0.02\n",
        "tgt_mse = 0.01\n",
        "hist = {\"dJdw0\":[],\"dJdw1\":[],\"w0\":[], \"w1\":[],\"mse\":[]}\n",
        "for i in range(1000):\n",
        "  z = w0+w1*x\n",
        "  mse = error(x, y, w0, w1)\n",
        "  dJdw0 = np.sum((z-y)/n)\n",
        "  dJdw1 = np.sum(((z-y)*x)/n)\n",
        "  w0_ = w0-alpha*dJdw0 \n",
        "  w1_ = w1-alpha*dJdw1\n",
        "  mse_ = error(x,y, w0_, w1_) \n",
        "  \n",
        "  hist[\"dJdw0\"].append(dJdw0)\n",
        "  hist[\"dJdw1\"].append(dJdw1)\n",
        "  hist[\"w0\"].append(w0)\n",
        "  hist[\"w1\"].append(w1)\n",
        "  hist[\"mse\"].append(mse)\n",
        "  \n",
        "  if mse<=tgt_mse:\n",
        "    print(f\"Converged after {i+1} steps\")\n",
        "    break\n",
        "  else:\n",
        "    w0,w1=(w0_,w1_)"
      ],
      "execution_count": 596,
      "outputs": [
        {
          "output_type": "stream",
          "text": [
            "Converged after 142 steps\n"
          ],
          "name": "stdout"
        }
      ]
    },
    {
      "cell_type": "code",
      "metadata": {
        "id": "DSD8QWvM0U7j",
        "colab_type": "code",
        "colab": {
          "base_uri": "https://localhost:8080/",
          "height": 295
        },
        "outputId": "6c14ea8c-65ef-4d8b-e523-e8e28621dcf7"
      },
      "source": [
        "plot(x,y, w0, w1)"
      ],
      "execution_count": 597,
      "outputs": [
        {
          "output_type": "display_data",
          "data": {
            "image/png": "[encoded data removed]",
            "text/plain": [
              "<Figure size 432x288 with 1 Axes>"
            ]
          },
          "metadata": {
            "tags": [],
            "needs_background": "light"
          }
        }
      ]
    },
    {
      "cell_type": "code",
      "metadata": {
        "id": "v5chbqurCUyR",
        "colab_type": "code",
        "colab": {
          "base_uri": "https://localhost:8080/",
          "height": 265
        },
        "outputId": "2cf434fc-6f82-4442-b75e-5742682fba4b"
      },
      "source": [
        "plt.plot(hist[\"dJdw0\"][:50], label=\"dJdw0\")\n",
        "plt.plot(hist[\"dJdw1\"][:50], label=\"dJdw1\")\n",
        "plt.grid();\n",
        "plt.legend();"
      ],
      "execution_count": 598,
      "outputs": [
        {
          "output_type": "display_data",
          "data": {
            "image/png": "[encoded data removed]",
            "text/plain": [
              "<Figure size 432x288 with 1 Axes>"
            ]
          },
          "metadata": {
            "tags": [],
            "needs_background": "light"
          }
        }
      ]
    },
    {
      "cell_type": "code",
      "metadata": {
        "id": "nS6UocVd2dpq",
        "colab_type": "code",
        "colab": {
          "base_uri": "https://localhost:8080/",
          "height": 265
        },
        "outputId": "ae7dd54a-0438-426b-a712-d6e5ceb8b2c6"
      },
      "source": [
        "plt.plot(hist[\"w0\"][:50], label=\"w0\")\n",
        "plt.plot(hist[\"w1\"][:50], label=\"w1\")\n",
        "plt.grid()\n",
        "plt.legend();"
      ],
      "execution_count": 599,
      "outputs": [
        {
          "output_type": "display_data",
          "data": {
            "image/png": "[encoded data removed]",
            "text/plain": [
              "<Figure size 432x288 with 1 Axes>"
            ]
          },
          "metadata": {
            "tags": [],
            "needs_background": "light"
          }
        }
      ]
    },
    {
      "cell_type": "code",
      "metadata": {
        "id": "l6CCrVKo4ts3",
        "colab_type": "code",
        "colab": {
          "base_uri": "https://localhost:8080/",
          "height": 265
        },
        "outputId": "11f1dbdc-f472-4817-9a0d-ceb310189f9d"
      },
      "source": [
        "plt.plot(hist[\"mse\"][:50], label=\"mse\");\n",
        "plt.grid()\n",
        "plt.legend();"
      ],
      "execution_count": 600,
      "outputs": [
        {
          "output_type": "display_data",
          "data": {
            "image/png": "[encoded data removed]",
            "text/plain": [
              "<Figure size 432x288 with 1 Axes>"
            ]
          },
          "metadata": {
            "tags": [],
            "needs_background": "light"
          }
        }
      ]
    },
    {
      "cell_type": "code",
      "metadata": {
        "id": "PWYRFNRiImyi",
        "colab_type": "code",
        "colab": {}
      },
      "source": [
        ""
      ],
      "execution_count": 594,
      "outputs": []
    }
  ]
}