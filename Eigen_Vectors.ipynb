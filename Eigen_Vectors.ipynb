{
  "nbformat": 4,
  "nbformat_minor": 0,
  "metadata": {
    "colab": {
      "name": "Eigen Vectors.ipynb",
      "provenance": [],
      "collapsed_sections": [],
      "include_colab_link": true
    },
    "kernelspec": {
      "name": "python3",
      "display_name": "Python 3"
    }
  },
  "cells": [
    {
      "cell_type": "markdown",
      "metadata": {
        "id": "view-in-github",
        "colab_type": "text"
      },
      "source": [
        "<a href=\"https://colab.research.google.com/github/vinayshanbhag/Colaboratory/blob/master/Eigen_Vectors.ipynb\" target=\"_parent\"><img src=\"https://colab.research.google.com/assets/colab-badge.svg\" alt=\"Open In Colab\"/></a>"
      ]
    },
    {
      "cell_type": "code",
      "metadata": {
        "id": "EQuS_anHg9S3",
        "colab_type": "code",
        "colab": {}
      },
      "source": [
        "import matplotlib.pyplot as plt\n",
        "import numpy as np\n",
        "from numpy.linalg import norm, eig\n",
        "from IPython.core.interactiveshell import InteractiveShell\n",
        "InteractiveShell.ast_node_interactivity = \"all\"\n",
        "\n",
        "def plot_vec(v, color=\"k\", name=\"\", title=\"\"):\n",
        "  \"\"\"utility function to plot a vector\"\"\"\n",
        "  x,y = v\n",
        "  origin = [0],[0]\n",
        "  plt.quiver(*origin,\n",
        "             x,y,\n",
        "             angles='xy',\n",
        "             scale_units='xy',\n",
        "             scale=1,\n",
        "             color=color);\n",
        "  sz = abs(v.max())\n",
        "  plt.xlim(-sz*1.5, sz*1.5);\n",
        "  plt.ylim(-sz*1.5, sz*1.5); \n",
        "  plt.grid(True,axis='both');\n",
        "  #plt.gca().set_aspect(\"equal\");\n",
        "  coords = f\" ({x:{'0.0f' if int(x)==x else '.2f'}},{y:{'0.0f' if int(y)==y else '.2f'}})\"\n",
        "  plt.text(x*1.2,y*1.2,name + coords,fontsize=14);\n",
        "  plt.title(title);"
      ],
      "execution_count": 0,
      "outputs": []
    },
    {
      "cell_type": "markdown",
      "metadata": {
        "id": "UbkopCDoZchf",
        "colab_type": "text"
      },
      "source": [
        "Matrix A transforms a vector $\\vec v$ as follows-\n",
        "\n",
        "\\begin{equation*}\n",
        "  A = \n",
        "  \\begin{bmatrix}\n",
        "    3&1\\\\\n",
        "    0&2\\\\\n",
        "  \\end{bmatrix}\n",
        "\\end{equation*}"
      ]
    },
    {
      "cell_type": "markdown",
      "metadata": {
        "id": "cFu1qOWrP8gc",
        "colab_type": "text"
      },
      "source": [
        "\\begin{equation*}\n",
        "  \\vec v\n",
        "  =\n",
        "  \\begin{bmatrix}\n",
        "    3\\\\\n",
        "    2\\\\\n",
        "  \\end{bmatrix}\n",
        "\\end{equation*}"
      ]
    },
    {
      "cell_type": "markdown",
      "metadata": {
        "id": "0FOtgb1vQCi4",
        "colab_type": "text"
      },
      "source": [
        "\\begin{equation*}\n",
        "  A\n",
        "  \\cdot\n",
        "  \\vec v = \n",
        "  \\begin{bmatrix}\n",
        "    3&1\\\\\n",
        "    0&2\\\\\n",
        "  \\end{bmatrix}\n",
        "  \\cdot\n",
        "  \\begin{bmatrix}\n",
        "    3\\\\\n",
        "    2\\\\\n",
        "  \\end{bmatrix}\n",
        "  =\n",
        "  \\begin{bmatrix}\n",
        "    11\\\\\n",
        "    4\\\\\n",
        "  \\end{bmatrix}\n",
        "\\end{equation*}"
      ]
    },
    {
      "cell_type": "code",
      "metadata": {
        "id": "M_5c8J07KT_L",
        "colab_type": "code",
        "colab": {}
      },
      "source": [
        "v = np.array([3,2])"
      ],
      "execution_count": 0,
      "outputs": []
    },
    {
      "cell_type": "code",
      "metadata": {
        "id": "jI-evSnOy1Cv",
        "colab_type": "code",
        "colab": {}
      },
      "source": [
        "A = np.array([[3,1],[0,2]])"
      ],
      "execution_count": 0,
      "outputs": []
    },
    {
      "cell_type": "code",
      "metadata": {
        "id": "mGNWfQ_HZxv2",
        "colab_type": "code",
        "colab": {
          "base_uri": "https://localhost:8080/",
          "height": 265
        },
        "outputId": "f1139d24-4a4d-41e7-d9ed-dc2defb1f27e"
      },
      "source": [
        "plot_vec(v,name=r\"$\\vec v $\", color=\"k\")\n",
        "plot_vec(np.dot(A,v),name=r\"A$\\cdot\\vec v $\", color=\"b\")"
      ],
      "execution_count": 30,
      "outputs": [
        {
          "output_type": "display_data",
          "data": {
            "image/png": "[encoded data removed]",
            "text/plain": [
              "<Figure size 432x288 with 1 Axes>"
            ]
          },
          "metadata": {
            "tags": []
          }
        }
      ]
    },
    {
      "cell_type": "markdown",
      "metadata": {
        "id": "wBR0M0IwYudV",
        "colab_type": "text"
      },
      "source": [
        "Almost all vectors change direction, when they are multiplied by A. Eigen vectors are nonzero vectors that change at most by a scalar factor when a given linear transformation matrix is applied. "
      ]
    },
    {
      "cell_type": "markdown",
      "metadata": {
        "id": "yFOC84HobciP",
        "colab_type": "text"
      },
      "source": [
        "Can we find non-zero vectors that only scale when a linear tranformation matrix is applied? i.e. Find vector(s) $\\vec v$ such that - \n",
        "\n",
        "\\begin{equation*}\n",
        "A\\cdot\\vec v = \\lambda\\cdot\\vec v\n",
        "\\end{equation*} \n",
        "\n",
        "where, \n",
        "\n",
        "$\\lambda$ is a scalar\n",
        "\n",
        "A is the tranformation matrix, and\n",
        "\n",
        "$\\vec v \\neq 0$"
      ]
    },
    {
      "cell_type": "markdown",
      "metadata": {
        "id": "-hL2XVyYQV1F",
        "colab_type": "text"
      },
      "source": [
        "\\begin{equation*}\n",
        "  A.\\vec v = (\\lambda*I)\\cdot\\vec v  \\quad\\quad\\quad  \\because I\\cdot\\vec v = \\vec v   \n",
        "\\end{equation*} \n",
        "where $I$ is the identity matrix"
      ]
    },
    {
      "cell_type": "markdown",
      "metadata": {
        "id": "DyFiBNMxQcu7",
        "colab_type": "text"
      },
      "source": [
        "\\begin{equation*}\n",
        "  \\lambda\n",
        "  *\n",
        "  I =\n",
        "  \\lambda*\n",
        "  \\begin{bmatrix}\n",
        "    1&0\\\\\n",
        "    0&1\\\\\n",
        "  \\end{bmatrix} =\n",
        "  \\begin{bmatrix}\n",
        "    \\lambda&0\\\\\n",
        "    0&\\lambda\\\\\n",
        "  \\end{bmatrix}\n",
        "\\end{equation*}"
      ]
    },
    {
      "cell_type": "markdown",
      "metadata": {
        "id": "x3ROUzxoQjwq",
        "colab_type": "text"
      },
      "source": [
        "\\begin{equation*}\n",
        "   A\\cdot\\vec v - (\\lambda I)\\vec v = 0\n",
        "\\end{equation*} \n",
        "\n",
        "\n",
        "\\begin{equation*}\n",
        "   (A-\\lambda I)\\cdot\\vec v = 0\n",
        "\\end{equation*} \n",
        "\n",
        "Since we are not interested in the case where $\\vec v$ = 0,\n",
        "\n",
        "\\begin{equation*}\n",
        "   \\det\n",
        "   \\begin{pmatrix}\n",
        "   A-\\lambda I\n",
        "   \\end{pmatrix}\n",
        "   = 0\n",
        "\\end{equation*}"
      ]
    },
    {
      "cell_type": "markdown",
      "metadata": {
        "id": "eHkpMb_3Qqf9",
        "colab_type": "text"
      },
      "source": [
        "Find eigenvalue(s) $\\lambda$ such that,\n",
        "\n",
        "\\begin{equation*}\n",
        "  \\det\n",
        "  \\begin{pmatrix}\n",
        "    3 - \\lambda &1 \\\\\n",
        "    0 & 2-\\lambda \\\\\n",
        "  \\end{pmatrix}\n",
        "  =\n",
        "  0\n",
        "\\end{equation*}"
      ]
    },
    {
      "cell_type": "markdown",
      "metadata": {
        "id": "j-wx5iAmQxfS",
        "colab_type": "text"
      },
      "source": [
        "\\begin{equation*}\n",
        "(3-\\lambda)\\times(2-\\lambda)-(1\\times0)=0\n",
        "\\end{equation*}\n",
        "\n",
        "$\\therefore \\lambda = 3$ or $\\lambda = 2$ \n",
        "\n"
      ]
    },
    {
      "cell_type": "markdown",
      "metadata": {
        "id": "Ec2hi7CZQ26c",
        "colab_type": "text"
      },
      "source": [
        "Subtract the eigenvalues from A, to get the eigenvectors\n",
        "\n",
        "\\begin{equation*}\n",
        "  \\begin{bmatrix}\n",
        "    1&1\\\\\n",
        "    0&0\\\\\n",
        "  \\end{bmatrix}\n",
        "  ,\n",
        "  \\begin{bmatrix}\n",
        "    0&1\\\\\n",
        "    0&-1\\\\\n",
        "  \\end{bmatrix}\n",
        "\\end{equation*}\n"
      ]
    },
    {
      "cell_type": "markdown",
      "metadata": {
        "id": "l2_-_Izsk84c",
        "colab_type": "text"
      },
      "source": [
        "So the eigenvectors are - \n",
        "\n",
        "\n",
        "  $\\begin{bmatrix}\n",
        "    1\\\\\n",
        "    0\\\\\n",
        "  \\end{bmatrix}\n",
        "  \\begin{bmatrix}\n",
        "    1\\\\\n",
        "    -1\\\\\n",
        "  \\end{bmatrix}$\n"
      ]
    },
    {
      "cell_type": "code",
      "metadata": {
        "id": "oePYhiWRKGs-",
        "colab_type": "code",
        "colab": {
          "base_uri": "https://localhost:8080/",
          "height": 315
        },
        "outputId": "298e5014-e1a2-47bb-9b96-a29e696d7ec4"
      },
      "source": [
        "# using numpy.linalg.eig\n",
        "eigval, eigvec = eig(A)\n",
        "plot_vec(eigvec[:,0], title=\"Eigenvectors of A\", color=\"b\",name = r\"$\\vec v_1$\")\n",
        "plot_vec(eigvec[:,1], title=\"Eigenvectors of A\", color=\"g\",name = r\"$\\vec v_2$\")\n",
        "eigval, eigvec"
      ],
      "execution_count": 36,
      "outputs": [
        {
          "output_type": "execute_result",
          "data": {
            "text/plain": [
              "(array([3., 2.]), array([[ 1.        , -0.70710678],\n",
              "        [ 0.        ,  0.70710678]]))"
            ]
          },
          "metadata": {
            "tags": []
          },
          "execution_count": 36
        },
        {
          "output_type": "display_data",
          "data": {
            "image/png": "[encoded data removed]",
            "text/plain": [
              "<Figure size 432x288 with 1 Axes>"
            ]
          },
          "metadata": {
            "tags": []
          }
        }
      ]
    },
    {
      "cell_type": "markdown",
      "metadata": {
        "id": "11mKLmyKf3rI",
        "colab_type": "text"
      },
      "source": [
        "Apply transformation matrix A to these eigenvectors to confirm they are indeed only scaled (stretched or squished), but not knocked off their original span."
      ]
    },
    {
      "cell_type": "code",
      "metadata": {
        "id": "o72o_kg8IXRe",
        "colab_type": "code",
        "colab": {
          "base_uri": "https://localhost:8080/",
          "height": 265
        },
        "outputId": "a67cd7ed-9576-4669-e0eb-ee72ad783888"
      },
      "source": [
        "plot_vec(eigvec[:,1], color=\"r\", name = r\"$\\vec v_2$\")\n",
        "plot_vec(eigvec[:,0], color=\"r\", name = r\"$\\vec v_1$\")\n",
        "\n",
        "plot_vec(np.dot(A,eigvec[:,1]), color=\"k\", name = r\"$A\\cdot\\vec v_2$\")\n",
        "plot_vec(np.dot(A,eigvec[:,0]), color=\"k\", name = r\"$A\\cdot\\vec v_1$\")"
      ],
      "execution_count": 37,
      "outputs": [
        {
          "output_type": "display_data",
          "data": {
            "image/png": "[encoded data removed]",
            "text/plain": [
              "<Figure size 432x288 with 1 Axes>"
            ]
          },
          "metadata": {
            "tags": []
          }
        }
      ]
    },
    {
      "cell_type": "code",
      "metadata": {
        "id": "3iRP5BIreaNS",
        "colab_type": "code",
        "colab": {}
      },
      "source": [
        ""
      ],
      "execution_count": 0,
      "outputs": []
    }
  ]
}