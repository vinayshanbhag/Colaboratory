{
  "nbformat": 4,
  "nbformat_minor": 0,
  "metadata": {
    "colab": {
      "name": "Eigen Vectors.ipynb",
      "provenance": [],
      "collapsed_sections": [],
      "include_colab_link": true
    },
    "kernelspec": {
      "name": "python3",
      "display_name": "Python 3"
    }
  },
  "cells": [
    {
      "cell_type": "markdown",
      "metadata": {
        "id": "view-in-github",
        "colab_type": "text"
      },
      "source": [
        "<a href=\"https://colab.research.google.com/github/vinayshanbhag/Colaboratory/blob/master/Eigen_Vectors.ipynb\" target=\"_parent\"><img src=\"https://colab.research.google.com/assets/colab-badge.svg\" alt=\"Open In Colab\"/></a>"
      ]
    },
    {
      "cell_type": "code",
      "metadata": {
        "id": "EQuS_anHg9S3",
        "colab_type": "code",
        "colab": {}
      },
      "source": [
        "import matplotlib.pyplot as plt\n",
        "import matplotlib.colors as mcolors\n",
        "import numpy as np\n",
        "from numpy import sin, cos, tan, pi,inf, random, around\n",
        "from numpy.linalg import norm, eig\n",
        "import string\n",
        "from IPython.core.interactiveshell import InteractiveShell\n",
        "InteractiveShell.ast_node_interactivity = \"all\"\n",
        "\n",
        "def plot_vec(v, color=\"k\", name=\"\", title=\"\"):\n",
        "  \"\"\"utility function to plot a vector\"\"\"\n",
        "  x,y = v\n",
        "  origin = [0],[0]\n",
        "  plt.quiver(*origin,\n",
        "             x,y,\n",
        "             angles='xy',\n",
        "             scale_units='xy',\n",
        "             scale=1,\n",
        "             color=color);\n",
        "  sz = abs(v.max())\n",
        "  plt.xlim(-sz*1.5, sz*1.5);\n",
        "  plt.ylim(-sz*1.5, sz*1.5); \n",
        "  plt.grid(True,axis='both');\n",
        "  #plt.gca().set_aspect(\"equal\");\n",
        "  coords = f\" ({x:{'0.0f' if int(x)==x else '.2f'}},{y:{'0.0f' if int(y)==y else '.2f'}})\"\n",
        "  plt.text(x*1.2,y*1.2,name + coords,fontsize=14);\n",
        "  plt.title(title);"
      ],
      "execution_count": 0,
      "outputs": []
    },
    {
      "cell_type": "code",
      "metadata": {
        "id": "M_5c8J07KT_L",
        "colab_type": "code",
        "colab": {}
      },
      "source": [
        "v = np.array([3,2])"
      ],
      "execution_count": 0,
      "outputs": []
    },
    {
      "cell_type": "code",
      "metadata": {
        "id": "DI10PQxqiD7K",
        "colab_type": "code",
        "colab": {
          "base_uri": "https://localhost:8080/",
          "height": 281
        },
        "outputId": "e883d5cc-e485-4cdf-86a7-5d8c965798bb"
      },
      "source": [
        "plot_vec(v,name=r\"$\\vec v $\", title=\"vector\")"
      ],
      "execution_count": 3,
      "outputs": [
        {
          "output_type": "display_data",
          "data": {
            "image/png": "[encoded data removed]",
            "text/plain": [
              "<Figure size 432x288 with 1 Axes>"
            ]
          },
          "metadata": {
            "tags": []
          }
        }
      ]
    },
    {
      "cell_type": "code",
      "metadata": {
        "id": "jI-evSnOy1Cv",
        "colab_type": "code",
        "colab": {}
      },
      "source": [
        "A = np.array([[3,1],[0,2]])"
      ],
      "execution_count": 0,
      "outputs": []
    },
    {
      "cell_type": "markdown",
      "metadata": {
        "id": "UbkopCDoZchf",
        "colab_type": "text"
      },
      "source": [
        "Matrix A transforms a vector $\\vec v$ as follows-\n",
        "\n",
        "\\begin{equation*}\n",
        "  A = \n",
        "  \\begin{bmatrix}\n",
        "    3&1\\\\\n",
        "    0&2\\\\\n",
        "  \\end{bmatrix}\n",
        "\\end{equation*}\n",
        "\n",
        "<br>\n",
        "\\begin{equation*}\n",
        "\\vec v\n",
        "=\n",
        "\\begin{bmatrix}\n",
        "    3\\\\\n",
        "    2\\\\\n",
        "\\end{bmatrix}\n",
        "\\end{equation*}\n",
        "<br>\n",
        "\n",
        "\\begin{equation*}\n",
        "  A\n",
        "  .\n",
        "  \\vec v = \n",
        "  \\begin{bmatrix}\n",
        "    3&1\\\\\n",
        "    0&2\\\\\n",
        "  \\end{bmatrix}\n",
        "  .\n",
        "  \\begin{bmatrix}\n",
        "    3\\\\\n",
        "    2\\\\\n",
        "  \\end{bmatrix}\n",
        "  =\n",
        "  \\begin{bmatrix}\n",
        "    11\\\\\n",
        "    4\\\\\n",
        "  \\end{bmatrix}\n",
        "\\end{equation*}\n"
      ]
    },
    {
      "cell_type": "code",
      "metadata": {
        "id": "mGNWfQ_HZxv2",
        "colab_type": "code",
        "colab": {
          "base_uri": "https://localhost:8080/",
          "height": 281
        },
        "outputId": "0d9c40bc-0ccf-491e-9b74-c3a6bfb58694"
      },
      "source": [
        "plot_vec(v,name=r\"$\\vec v $\", title=\"transformed vector\", color=\"k\")\n",
        "plot_vec(np.dot(A,v),name=r\"A . $\\vec v $\", title=\"transformed vector\", color=\"b\")"
      ],
      "execution_count": 27,
      "outputs": [
        {
          "output_type": "display_data",
          "data": {
            "image/png": "[encoded data removed]",
            "text/plain": [
              "<Figure size 432x288 with 1 Axes>"
            ]
          },
          "metadata": {
            "tags": []
          }
        }
      ]
    },
    {
      "cell_type": "markdown",
      "metadata": {
        "id": "yFOC84HobciP",
        "colab_type": "text"
      },
      "source": [
        "Eigen vectors are nonzero vectors that change at most by a scalar factor when a given linear transformation matrix is applied. Find vectors $\\vec v$ such that - \n",
        "\n",
        "\\begin{equation*}\n",
        "A.\\vec v = \\lambda.\\vec v\n",
        "\\end{equation*} \n",
        "\n",
        "where, \n",
        "\n",
        "$\\lambda$ is a scalar and\n",
        "\n",
        "$\\vec v \\neq 0$\n",
        "<br><br>\n",
        "\n",
        "\\begin{equation*}\n",
        "  A.\\vec v = (\\lambda*I).\\vec v\n",
        "\\end{equation*} \n",
        "\n",
        "<br><br>\n",
        "\n",
        "\\begin{equation*}\n",
        "  \\lambda\n",
        "  *\n",
        "  I =\n",
        "  \\lambda*\n",
        "  \\begin{bmatrix}\n",
        "    1&0\\\\\n",
        "    0&1\\\\\n",
        "  \\end{bmatrix} =\n",
        "  \\begin{bmatrix}\n",
        "    \\lambda&0\\\\\n",
        "    0&\\lambda\\\\\n",
        "  \\end{bmatrix}\n",
        "\\end{equation*}\n",
        "\n",
        "<br><br>\n",
        "\n",
        "\\begin{equation*}\n",
        "   A.\\vec v - (\\lambda I)\\vec v = 0\n",
        "\\end{equation*} \n",
        "\n",
        "\n",
        "\\begin{equation*}\n",
        "   (A-\\lambda I).\\vec v = 0\n",
        "\\end{equation*} \n",
        "\n",
        "Since we are not interested in $\\vec v$ = 0,\n",
        "\n",
        "\\begin{equation*}\n",
        "   \\begin{vmatrix}\n",
        "   A-\\lambda I\n",
        "   \\end{vmatrix}\n",
        "   = 0\n",
        "\\end{equation*}\n",
        "\n",
        "<br><br>\n",
        "Find $\\lambda$ such that,\n",
        "\\begin{equation*}\n",
        "  \\begin{vmatrix}\n",
        "    3-\\lambda&1\\\\\n",
        "    0&2-\\lambda\\\\\n",
        "  \\end{vmatrix}\n",
        "  =\n",
        "  0\n",
        "\\end{equation*}\n",
        "\n",
        "\n",
        "<br><br>\n",
        "\\begin{equation*}\n",
        "(3-\\lambda)\\times(2-\\lambda)-(1\\times0)=0\n",
        "\\end{equation*}\n",
        "\n",
        "$\\lambda = 3$ or $\\lambda = 2$ \n",
        "\n",
        "<br><br>\n",
        "Subtract the eigenvalues from A, to get the eigenvectors\n",
        "\n",
        "\\begin{equation*}\n",
        "  \\begin{bmatrix}\n",
        "    0&1\\\\\n",
        "    0&-1\\\\\n",
        "  \\end{bmatrix}\n",
        "  ,\n",
        "  \\begin{bmatrix}\n",
        "    1&1\\\\\n",
        "    0&0\\\\\n",
        "  \\end{bmatrix}\n",
        "\\end{equation*}\n",
        "\n",
        "\n"
      ]
    },
    {
      "cell_type": "code",
      "metadata": {
        "id": "oePYhiWRKGs-",
        "colab_type": "code",
        "colab": {
          "base_uri": "https://localhost:8080/",
          "height": 281
        },
        "outputId": "8fb831c3-4864-421d-fc2b-5bce6e729bfd"
      },
      "source": [
        "# using numpy.linalg.eig\n",
        "eigval, eigvec = eig(A)\n",
        "plot_vec(eigvec[:,0], title=\"eigenvectors\", color=\"b\")\n",
        "plot_vec(eigvec[:,1], title=\"eigenvectors\", color=\"g\")"
      ],
      "execution_count": 32,
      "outputs": [
        {
          "output_type": "display_data",
          "data": {
            "image/png": "[encoded data removed]",
            "text/plain": [
              "<Figure size 432x288 with 1 Axes>"
            ]
          },
          "metadata": {
            "tags": []
          }
        }
      ]
    },
    {
      "cell_type": "markdown",
      "metadata": {
        "id": "11mKLmyKf3rI",
        "colab_type": "text"
      },
      "source": [
        "Apply transformation matrix A to these eigenvectors to confirm they are only scaled (expanded or squished), but not knocked off their original span. "
      ]
    },
    {
      "cell_type": "code",
      "metadata": {
        "id": "o72o_kg8IXRe",
        "colab_type": "code",
        "colab": {
          "base_uri": "https://localhost:8080/",
          "height": 265
        },
        "outputId": "bc9d5322-6a02-45e1-dce5-0b55376d9013"
      },
      "source": [
        "plot_vec(eigvec[:,1], color=\"k\", name = r\"$\\vec v$\")\n",
        "plot_vec(eigvec[:,0], color=\"k\", name = r\"$\\vec v$\")\n",
        "\n",
        "plot_vec(np.dot(A,eigvec[:,1]), color=\"r\", name = r\"$A.\\vec v$\")\n",
        "plot_vec(np.dot(A,eigvec[:,0]), color=\"r\", name = r\"$A.\\vec v$\")"
      ],
      "execution_count": 31,
      "outputs": [
        {
          "output_type": "display_data",
          "data": {
            "image/png": "[encoded data removed]",
            "text/plain": [
              "<Figure size 432x288 with 1 Axes>"
            ]
          },
          "metadata": {
            "tags": []
          }
        }
      ]
    },
    {
      "cell_type": "code",
      "metadata": {
        "id": "_aMpbOmT_s1C",
        "colab_type": "code",
        "colab": {}
      },
      "source": [
        ""
      ],
      "execution_count": 0,
      "outputs": []
    }
  ]
}