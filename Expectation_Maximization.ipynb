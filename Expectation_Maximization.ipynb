{
  "nbformat": 4,
  "nbformat_minor": 0,
  "metadata": {
    "colab": {
      "name": "Expectation Maximization.ipynb",
      "provenance": [],
      "authorship_tag": "ABX9TyPOwieDgOiZvx3KZmC3Jrl/",
      "include_colab_link": true
    },
    "kernelspec": {
      "name": "python3",
      "display_name": "Python 3"
    }
  },
  "cells": [
    {
      "cell_type": "markdown",
      "metadata": {
        "id": "view-in-github",
        "colab_type": "text"
      },
      "source": [
        "<a href=\"https://colab.research.google.com/github/vinayshanbhag/math/blob/master/Expectation_Maximization.ipynb\" target=\"_parent\"><img src=\"https://colab.research.google.com/assets/colab-badge.svg\" alt=\"Open In Colab\"/></a>"
      ]
    },
    {
      "cell_type": "markdown",
      "metadata": {
        "id": "oTGfcCv4x_9M",
        "colab_type": "text"
      },
      "source": [
        "## Expectation&ndash;Maximization\n",
        "\n",
        "Expectation–maximization (EM) algorithm is an iterative method to find maximum likelihood estimates of parameters in statistical models, where the model depends on unobserved latent variables. For example, if we have data from *k* different gaussians, but we do not know which observation comes from which distribution. EM can be used to estimate the parameters of the underlying distributions."
      ]
    },
    {
      "cell_type": "code",
      "metadata": {
        "id": "2IjgzKDlKIKr",
        "colab_type": "code",
        "colab": {
          "base_uri": "https://localhost:8080/",
          "height": 52
        },
        "outputId": "f0c1ed0c-54b4-4bdd-81d6-df4b1415abbb"
      },
      "source": [
        "import numpy as np\n",
        "import matplotlib.pyplot as plt\n",
        "import seaborn as sns\n",
        "import pandas as pd\n",
        "%matplotlib inline"
      ],
      "execution_count": 1,
      "outputs": [
        {
          "output_type": "stream",
          "text": [
            "/usr/local/lib/python3.6/dist-packages/statsmodels/tools/_testing.py:19: FutureWarning: pandas.util.testing is deprecated. Use the functions in the public API at pandas.testing instead.\n",
            "  import pandas.util.testing as tm\n"
          ],
          "name": "stderr"
        }
      ]
    },
    {
      "cell_type": "markdown",
      "metadata": {
        "id": "rEEJKF07ydzA",
        "colab_type": "text"
      },
      "source": [
        "## 1-D Mixture Gaussian model\n",
        "\n",
        "Let's say we have a set of points that come from 2 different gaussian distributions. "
      ]
    },
    {
      "cell_type": "code",
      "metadata": {
        "id": "vmZLrvpqUYLv",
        "colab_type": "code",
        "colab": {
          "base_uri": "https://localhost:8080/",
          "height": 265
        },
        "outputId": "7bfc4645-1416-4a23-9150-afae405ca3d6"
      },
      "source": [
        "n1 = 50 # samples1\n",
        "n2 = 30 # samples2\n",
        "mu1, sig1, mu2, sig2 = 0.25,0.05,0.4,0.03\n",
        "samples1 = np.random.normal(mu1, sig1, n1)\n",
        "samples2 = np.random.normal(mu2, sig2, n2)\n",
        "plt.scatter(samples1,np.zeros(len(samples1)), marker='.'); \n",
        "plt.scatter(samples2,np.zeros(len(samples2)), marker='.');"
      ],
      "execution_count": 2,
      "outputs": [
        {
          "output_type": "display_data",
          "data": {
            "image/png": "[encoded data removed]",
            "text/plain": [
              "<Figure size 432x288 with 1 Axes>"
            ]
          },
          "metadata": {
            "tags": [],
            "needs_background": "light"
          }
        }
      ]
    },
    {
      "cell_type": "markdown",
      "metadata": {
        "id": "rvKnj-3pBNU7",
        "colab_type": "text"
      },
      "source": [
        "Estimation is trivial if we know which point came from which source/distribution. For the blue points we can compute the mean and variance. Likewise for the orange points."
      ]
    },
    {
      "cell_type": "code",
      "metadata": {
        "id": "ioYBAyfnCZpZ",
        "colab_type": "code",
        "colab": {
          "base_uri": "https://localhost:8080/",
          "height": 282
        },
        "outputId": "a2a1b359-bc97-46c5-e513-5465aebeae6a"
      },
      "source": [
        "plt.scatter(samples1,np.zeros(len(samples1)), marker='.'); \n",
        "plt.scatter(samples2,np.zeros(len(samples2)), marker='.');\n",
        "sns.distplot(samples1, hist=False)\n",
        "sns.distplot(samples2, hist=False) "
      ],
      "execution_count": 3,
      "outputs": [
        {
          "output_type": "execute_result",
          "data": {
            "text/plain": [
              "<matplotlib.axes._subplots.AxesSubplot at 0x7f3464865ac8>"
            ]
          },
          "metadata": {
            "tags": []
          },
          "execution_count": 3
        },
        {
          "output_type": "display_data",
          "data": {
            "image/png": "[encoded data removed]",
            "text/plain": [
              "<Figure size 432x288 with 1 Axes>"
            ]
          },
          "metadata": {
            "tags": [],
            "needs_background": "light"
          }
        }
      ]
    },
    {
      "cell_type": "markdown",
      "metadata": {
        "id": "xbSWbXNzCeT_",
        "colab_type": "text"
      },
      "source": [
        "What if we don't know which point came from which source?"
      ]
    },
    {
      "cell_type": "code",
      "metadata": {
        "id": "MSjESflQAeM1",
        "colab_type": "code",
        "colab": {
          "base_uri": "https://localhost:8080/",
          "height": 265
        },
        "outputId": "4ef805dd-e4a3-4d23-c8c0-11c03e2e83fa"
      },
      "source": [
        "samples = np.append(samples1, samples2)\n",
        "plt.scatter(samples,np.zeros(len(samples)), marker='.'); "
      ],
      "execution_count": 4,
      "outputs": [
        {
          "output_type": "display_data",
          "data": {
            "image/png": "[encoded data removed]",
            "text/plain": [
              "<Figure size 432x288 with 1 Axes>"
            ]
          },
          "metadata": {
            "tags": [],
            "needs_background": "light"
          }
        }
      ]
    },
    {
      "cell_type": "markdown",
      "metadata": {
        "id": "eNnwnuDxFcRZ",
        "colab_type": "text"
      },
      "source": [
        "We have a bunch of data points that came from *k* different Gaussian distributions. But we don't know which data point came from which source. We also do not know the parameters ($\\mu,\\sigma$) of those *k* Gaussian distributions.\n",
        "\n",
        "This is the problem addressed by the Expectation&ndash;Maximization algorithm."
      ]
    },
    {
      "cell_type": "code",
      "metadata": {
        "id": "StA5DFA5KrJ4",
        "colab_type": "code",
        "colab": {}
      },
      "source": [
        "def plot(X,u1,s1,u2,s2,title):\n",
        "  \"\"\" Plot mean and sigma at each step along with original data points.\"\"\"\n",
        "  plt.figure(figsize=(15,4))\n",
        "  plt.title(title)\n",
        "  plt.scatter(X,np.zeros(len(X)), marker='.') # plot original data points\n",
        "  \n",
        "  ax = sns.distplot(X, color='lightgray',hist=False, rug=True, \n",
        "                    kde_kws={\"color\": \"lightgray\", \"lw\": 1, \"linestyle\": \":\"},\n",
        "                    rug_kws={\"color\": sns.color_palette().as_hex()[0], \"alpha\":0.3, \"linewidth\": 1 }\n",
        "                   ) # plot underlying distribution for reference (KDE plot)\n",
        "  dist1_color = sns.color_palette().as_hex()[1]\n",
        "  dist2_color = sns.color_palette().as_hex()[2]\n",
        "  ymin, ymax = ax.get_ylim()\n",
        "  # plot parameters for dist 1\n",
        "  plt.vlines(u1,ymin,ymax,dist1_color,'-.')\n",
        "  plt.text(u1,ymax,'$\\mu_1$')\n",
        "  plt.vlines(u1-s1,ymin,ymax,dist1_color,'dotted')\n",
        "  plt.text(u1-s1,ymax*0.8,'$-\\sigma_1$')\n",
        "  plt.vlines(u1+s1,ymin,ymax,dist1_color,'dotted')\n",
        "  plt.text(u1+s1,ymax*0.9,'$+\\sigma_1$')\n",
        "  # plot parameters for dist_2\n",
        "  plt.vlines(u2,ymin,ymax,dist2_color,'-.')\n",
        "  plt.text(u2,ymax,'$\\mu_2$')\n",
        "  plt.vlines(u2-s2,ymin,ymax,dist2_color,'dotted')\n",
        "  plt.text(u2-s2,ymax*.8,'$-\\sigma_2$')\n",
        "  plt.vlines(u2+s2,ymin,ymax,dist2_color,'dotted')\n",
        "  plt.text(u2+s2,ymax*.9,'$+\\sigma_2$')\n",
        "  \n",
        "  plt.grid()\n",
        "  \n",
        "  plt.show()"
      ],
      "execution_count": 5,
      "outputs": []
    },
    {
      "cell_type": "markdown",
      "metadata": {
        "id": "t-1VL3H7OsHQ",
        "colab_type": "text"
      },
      "source": [
        "## Expectation&ndash;Maximization Algorithm\n",
        "\n",
        "\n",
        "\n",
        "* Start with 2 randomly placed Gaussians ($\\mu_1, \\sigma_1$) and ($\\mu_2, \\sigma_2$). Since we do not know how many samples came from each distribution, we will initialize the priors $P(dist_1)$ and $P(dist_2)$ to 0.5.\n",
        "* Given these randomly placed Gaussians, for each point compute the probability that it belongs to each of these distributions\n",
        "* Re-estimate ($\\mu_1, \\sigma_1$) and ($\\mu_2, \\sigma_2$) to fit the points assigned to them. Update the priors.\n",
        "* Iterate until it converges\n",
        "\n",
        "**Expectation step**\n",
        "\n",
        "Compute probability of a data point given that it belongs to one distribution\n",
        "\n",
        "$P(x_i|dist_1) = \\frac{1}{\\sqrt{2\\pi\\sigma_1^2}}e^{-\\frac{(x_i-\\mu_1)^2}{2\\sigma_1^2}}$\n",
        "\n",
        "Compute probability of a distribution given the data point\n",
        "\n",
        "$P(dist_1|x_i) = \\frac{P(x_i|dist_1)P(dist_1)}{P(x_i|dist_1)P(dist_1) + P(x_i|dist_2)P(dist_2)}$\n",
        "\n",
        "\n",
        "$P(dist_2|x_i) = 1 - P(dist_1|x_i)$\n",
        "\n",
        "\n",
        "**Maximization step**\n",
        "\n",
        "Re-estimate $\\mu$ and $\\sigma$ to fit the points assigned to them\n",
        "\n",
        "$\\mu_1 = \\frac{\\displaystyle\\sum_{i=1}^{n} P(dist_1|x_i).x_i}{\\displaystyle\\sum_{i=1}^{n} P(dist_1|x_i)}$\n",
        "\n",
        "$\\sigma_1 = \\sqrt{\\frac{\\displaystyle\\sum_{i=1}^{n} P(dist_1|x_i)(x_i-\\mu_1)^2}{\\displaystyle\\sum_{i=1}^{n} P(dist_1|x_i)}}$\n",
        "\n",
        "Update the priors-\n",
        "\n",
        "$P(dist_1) = mean(P(dist_1|x_i))$ \n",
        "\n",
        "$P(dist_2) = 1-P(dist_1)$\n",
        "\n",
        "Repeat until $\\mu$ and $\\sigma$ converge.\n",
        "\n",
        "Following code performs these steps and plots the $\\mu$ and $\\sigma$ at each step.\n"
      ]
    },
    {
      "cell_type": "code",
      "metadata": {
        "id": "9niz6bd2YhBg",
        "colab_type": "code",
        "colab": {}
      },
      "source": [
        "X = samples\n",
        "u1,u2 = X.mean()-X.std(), X.mean()+X.std()#np.random.uniform(X.min(), X.max(), 2)\n",
        "s1, s2 = u1*0.5, u2*0.5\n",
        "p1,p2 = 0.5,0.5 # initialize priors of dist1 and dist2\n",
        "#plot(X, u1,s1, u2, s2, f\"Iter:0\\n$\\mu_1={u1:0.4f};\\sigma_1={s1:0.4f};\\mu_2={u2:0.4f};\\sigma_2={s2:0.4f};P(dist_1)={p1:0.2f};P(dist_2)={p2:0.2f};$\")\n",
        "\n",
        "for i in range(1,101):\n",
        "  #P(x|dist1)\n",
        "  px_1 = (np.exp(-((X-u1)**2)/(2*(s1**2))))/np.sqrt(np.pi*2*(s1**2))\n",
        "  #P(x|dist2)\n",
        "  px_2 = (np.exp(-((X-u2)**2)/(2*(s2**2))))/np.sqrt(np.pi*2*(s2**2))\n",
        "  \n",
        "  #P(dist1|x)\n",
        "  p1_x = (px_1*p1)/((px_1*p1) + (px_2*p2))\n",
        "  #P(dist2|x)\n",
        "  p2_x = 1-p1_x\n",
        "  \n",
        "  #Update priors P(dist1) and P(dist2)\n",
        "  p1 = np.mean(p1_x)\n",
        "  p2 = 1-p1\n",
        "\n",
        "  #Compute new mean and sigma given \n",
        "  u1_ = np.sum(p1_x*X)/np.sum(p1_x)\n",
        "  u2_ = np.sum(p2_x*X)/np.sum(p2_x)\n",
        "  s1_ = np.sqrt(np.sum(p1_x*((X-u1)**2))/np.sum(p1_x))\n",
        "  s2_ = np.sqrt(np.sum(p2_x*((X-u2)**2))/np.sum(p2_x))\n",
        "  \n",
        "  #plot(X, u1_,s1_, u2_, s2_, f\"Iter:{i}\\n$\\mu_1={u1:0.4f};\\sigma_1={s1:0.4f};\\mu_2={u2:0.4f};\\sigma_2={s2:0.4f};P(dist_1)={p1:0.2f};P(dist_2)={p2:0.2f};$\")\n",
        "  if np.allclose([u1,u2,s1,s2],[u1_,u2_,s1_,s2_], atol=1e-04):\n",
        "    #print(\"Converged\")\n",
        "    break\n",
        "  else:\n",
        "    u1,u2,s1,s2=(u1_,u2_,s1_,s2_)\n"
      ],
      "execution_count": 9,
      "outputs": []
    },
    {
      "cell_type": "markdown",
      "metadata": {
        "id": "BJSZBSgC_FtC",
        "colab_type": "text"
      },
      "source": [
        "<img src=\"https://github.com/vinayshanbhag/math/blob/master/EM.gif?raw=true\"/>"
      ]
    },
    {
      "cell_type": "markdown",
      "metadata": {
        "id": "_3MadpPtV1t7",
        "colab_type": "text"
      },
      "source": [
        "Compare the estimated Gaussian parameters to the original"
      ]
    },
    {
      "cell_type": "code",
      "metadata": {
        "id": "PoWEqETCXyGU",
        "colab_type": "code",
        "colab": {
          "base_uri": "https://localhost:8080/",
          "height": 60
        },
        "outputId": "b4a15185-c815-4999-e795-54bbfef01ac2"
      },
      "source": [
        "from IPython.display import display, Math\n",
        "display(Math(rf\"Original \\space Distribution: \\mu_1={mu1:0.3f};\\sigma_1={sig1:0.3f};\\mu_2={mu2:0.3f};\\sigma_2={sig2:0.3f};P(dist_1)={n1/(n1+n2):0.2f};P(dist_2)={n2/(n1+n2):0.2f}\"))\n",
        "display(Math(rf\"Estimated \\space Distribution: \\mu_1={u1:0.3f};\\sigma_1={s1:0.3f};\\mu_2={u2:0.3f};\\sigma_2={s2:0.3f};P(dist_1)={p1:0.2f};P(dist_2)={p2:0.2f}\"))"
      ],
      "execution_count": 7,
      "outputs": [
        {
          "output_type": "display_data",
          "data": {
            "text/latex": "$$Original \\space Distribution: \\mu_1=0.250;\\sigma_1=0.050;\\mu_2=0.400;\\sigma_2=0.030;P(dist_1)=0.62;P(dist_2)=0.38$$",
            "text/plain": [
              "<IPython.core.display.Math object>"
            ]
          },
          "metadata": {
            "tags": []
          }
        },
        {
          "output_type": "display_data",
          "data": {
            "text/latex": "$$Estimated \\space Distribution: \\mu_1=0.230;\\sigma_1=0.051;\\mu_2=0.401;\\sigma_2=0.025;P(dist_1)=0.65;P(dist_2)=0.35$$",
            "text/plain": [
              "<IPython.core.display.Math object>"
            ]
          },
          "metadata": {
            "tags": []
          }
        }
      ]
    },
    {
      "cell_type": "code",
      "metadata": {
        "id": "Y23K_3751J4B",
        "colab_type": "code",
        "colab": {}
      },
      "source": [
        ""
      ],
      "execution_count": 7,
      "outputs": []
    }
  ]
}