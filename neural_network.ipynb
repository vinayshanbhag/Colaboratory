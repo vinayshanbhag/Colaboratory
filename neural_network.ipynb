{
  "nbformat": 4,
  "nbformat_minor": 0,
  "metadata": {
    "colab": {
      "name": "neural_network.ipynb",
      "provenance": [],
      "collapsed_sections": [],
      "authorship_tag": "ABX9TyO/W3KCe0OgXxQdnX0YXJYo",
      "include_colab_link": true
    },
    "kernelspec": {
      "name": "python3",
      "display_name": "Python 3"
    }
  },
  "cells": [
    {
      "cell_type": "markdown",
      "metadata": {
        "id": "view-in-github",
        "colab_type": "text"
      },
      "source": [
        "<a href=\"https://colab.research.google.com/github/vinayshanbhag/math/blob/master/neural_network.ipynb\" target=\"_parent\"><img src=\"https://colab.research.google.com/assets/colab-badge.svg\" alt=\"Open In Colab\"/></a>"
      ]
    },
    {
      "cell_type": "markdown",
      "metadata": {
        "id": "QZSVGbxlk0tF",
        "colab_type": "text"
      },
      "source": [
        "### Perceptron\n",
        "\n",
        "A *perceptron* is an artificial neuron. It is a mathematical function based on a model of biological neurons, where each neuron takes inputs, weighs them separately, sums them up and passes this sum through a nonlinear function to produce output."
      ]
    },
    {
      "cell_type": "markdown",
      "metadata": {
        "id": "pJO2qL2QPpty",
        "colab_type": "text"
      },
      "source": [
        "<img src=\"https://github.com/vinayshanbhag/math/blob/master/perceptron.png?raw=true\"/>"
      ]
    },
    {
      "cell_type": "code",
      "metadata": {
        "id": "bkibBhKfOARA",
        "colab_type": "code",
        "colab": {}
      },
      "source": [
        "#import requests, graphviz\n",
        "#graphviz.Source(requests.get(\"https://raw.githubusercontent.com/vinayshanbhag/math/master/perceptron.dot\").content.decode())"
      ],
      "execution_count": 1,
      "outputs": []
    },
    {
      "cell_type": "markdown",
      "metadata": {
        "id": "G0TtZyJNmOVg",
        "colab_type": "text"
      },
      "source": [
        "Given input $\\bar{x}$, and weights $\\bar{w}$, $z$ is the net input - \n",
        "\n",
        "\n",
        "\\begin{align*}\n",
        "z &= x_0w_0+x_1w_1+x_2w_2 \\\\\n",
        "&=\\displaystyle\\sum_{i=0}^{2}x_iw_i\\\\\n",
        "&=\\begin{bmatrix}w_0&w_1&w_2\\end{bmatrix}.\\begin{bmatrix}x_0\\\\x_1\\\\x_2\\end{bmatrix}\\\\\n",
        "&=\\bar{w}^T\\bar{x}\\\\\n",
        "\\end{align*}\n",
        "\n",
        ">$w_0$ is the bias, $x_0=1$\n",
        "\n",
        "The output $\\hat{y}$ is obtained by applying a sigmoid activation function $\\Phi$ to the net input $z$ -\n",
        "\n",
        "\\begin{align*}\n",
        "\\Phi(z) &= \\frac{1}{1+e^{-z}}\\\\\n",
        "\\newline\\\\\n",
        "\\hat{y} &= \\Phi(z) \\\\\n",
        "&=\\frac{1}{1+e^{-w^{T}x}}\\\\\n",
        "\\end{align*}\n",
        "\n",
        "The output $\\hat{y}$ is one of two classes, 0 or 1. The Perceptron algorithm learns the weights for the input signals in order to draw a linear decision boundary.\n",
        "\n"
      ]
    },
    {
      "cell_type": "code",
      "metadata": {
        "id": "qMEwbIWITc5I",
        "colab_type": "code",
        "colab": {
          "base_uri": "https://localhost:8080/",
          "height": 295
        },
        "outputId": "d1593663-7079-4fb8-c19c-8df8d7427cf5"
      },
      "source": [
        "import numpy as np\n",
        "import matplotlib.pyplot as plt\n",
        "%matplotlib inline\n",
        "z = np.linspace(-30,30,100)\n",
        "plt.plot(range(len(z)), 1/(1+np.e**(-z)))\n",
        "plt.title(r\"Sigmoid activation function\");\n",
        "plt.xlabel(\"z\");\n",
        "plt.ylabel(r\"$\\Phi(z)$\");\n",
        "plt.text(55, 0.6, r\"$\\Phi(z) = \\frac{1}{1+e^{-z}}$\", fontsize=25);\n",
        "plt.grid();"
      ],
      "execution_count": 2,
      "outputs": [
        {
          "output_type": "display_data",
          "data": {
            "image/png": "[encoded data removed]",
            "text/plain": [
              "<Figure size 432x288 with 1 Axes>"
            ]
          },
          "metadata": {
            "tags": [],
            "needs_background": "light"
          }
        }
      ]
    },
    {
      "cell_type": "markdown",
      "metadata": {
        "id": "2W0IdbYQVDuj",
        "colab_type": "text"
      },
      "source": [
        "### A network of multiple neurons\n",
        "\n",
        "<img src=\"https://github.com/vinayshanbhag/math/blob/master/multi-layer_perceptron.png?raw=true\"/>"
      ]
    },
    {
      "cell_type": "code",
      "metadata": {
        "id": "ggZ7ALpaTxFQ",
        "colab_type": "code",
        "colab": {}
      },
      "source": [
        "#import requests, graphviz\n",
        "#graphviz.Source(requests.get(\"https://raw.githubusercontent.com/vinayshanbhag/math/master/multi-layer_perceptron.dot\").content.decode())"
      ],
      "execution_count": 3,
      "outputs": []
    },
    {
      "cell_type": "markdown",
      "metadata": {
        "id": "8hLDTxc1L9wX",
        "colab_type": "text"
      },
      "source": [
        "Given inputs $x_1...x_3$ and weights $w_0...w_1$, the output of neurons $a^{(2)}_i$ ($i^{th}$ neuron in layer 2) can be computed as follows - \n",
        "\n",
        "\\begin{align*} a_1^{(2)} = \\Phi(w_{10}^{(1)}x_0 + w_{11}^{(1)}x_1 + w_{12}^{(1)}x_2 + w_{13}^{(1)}x_3) \\newline a_2^{(2)} = \\Phi(w_{20}^{(1)}x_0 + w_{21}^{(1)}x_1 + w_{22}^{(1)}x_2 + w_{23}^{(1)}x_3) \\newline a_3^{(2)} = \\Phi(w_{30}^{(1)}x_0 + w_{31}^{(1)}x_1 + w_{32}^{(1)}x_2 + w_{33}^{(1)}x_3) \\newline \\newline \\end{align*}"
      ]
    },
    {
      "cell_type": "markdown",
      "metadata": {
        "id": "_TDdGpmXuqWH",
        "colab_type": "text"
      },
      "source": [
        "We can represent this in vector form, as follows -\n",
        "\\begin{align*}\n",
        "\\begin{bmatrix} a_1^{(2)} \\\\ a_2^{(2)} \\\\ a_3^{(2)} \\\\ \\end{bmatrix} &= \\Phi \\left(\\begin{bmatrix}w_{10}^{(1)}&w_{11}^{(1)}&w_{12}^{(1)}&w_{13}^{(1)}\\\\w_{20}^{(1)}&w_{21}^{(1)}&w_{22}^{(1)}&w_{23}^{(1)}\\\\w_{30}^{(1)}&w_{31}^{(1)}&w_{32}^{(1)}&w_{33}^{(1)}\\end{bmatrix}.\\begin{bmatrix}x_0\\\\x_1\\\\x_2\\\\x_3\\end{bmatrix}\\right)\\end{align*}"
      ]
    },
    {
      "cell_type": "markdown",
      "metadata": {
        "id": "ZL9gYP2Gu5VL",
        "colab_type": "text"
      },
      "source": [
        "\\begin{align*}\n",
        "a^{(l)} &= \\Phi(w_{l-1}^T.a_{l-1})\n",
        "\\end{align*}"
      ]
    },
    {
      "cell_type": "markdown",
      "metadata": {
        "id": "Hfosd1a7u8xR",
        "colab_type": "text"
      },
      "source": [
        "The shape of the weight matrix $w$ $\\in \\mathbb{R}^{(s_{l+1}) \\mathbb{x} (s_l + 1)}$ where $s_l$ is the number of inputs from layer $l$, and $s_{l+1}$ is number of units in $(l+1)^{th}$ layer"
      ]
    },
    {
      "cell_type": "markdown",
      "metadata": {
        "id": "sBdFTB3bvCO2",
        "colab_type": "text"
      },
      "source": [
        "The output of third layer, $\\hat{y}$ is computed as follows -\n",
        "\n",
        "\\begin{align*} \n",
        "\\hat{y} = a_1^{(3)} = \\Phi(w_{10}^{(2)}a_0^{(2)} + w_{11}^{(2)}a_1^{(2)} + w_{12}^{(2)}a_2^{(2)} + w_{13}^{(2)}a_3^{(2)}) \\newline \\end{align*}\n",
        "\n",
        "where $a_0$ is the bias unit from hidden layer"
      ]
    },
    {
      "cell_type": "markdown",
      "metadata": {
        "id": "Qe8M2Xfl7Tk3",
        "colab_type": "text"
      },
      "source": [
        "TBD"
      ]
    },
    {
      "cell_type": "code",
      "metadata": {
        "id": "N-otYiMoMF-W",
        "colab_type": "code",
        "colab": {}
      },
      "source": [
        ""
      ],
      "execution_count": 3,
      "outputs": []
    }
  ]
}