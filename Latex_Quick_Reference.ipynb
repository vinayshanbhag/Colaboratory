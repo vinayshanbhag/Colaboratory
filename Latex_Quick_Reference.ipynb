{
  "nbformat": 4,
  "nbformat_minor": 0,
  "metadata": {
    "colab": {
      "name": "Latex Quick Reference.ipynb",
      "provenance": [],
      "collapsed_sections": [],
      "include_colab_link": true
    },
    "kernelspec": {
      "name": "python3",
      "display_name": "Python 3"
    }
  },
  "cells": [
    {
      "cell_type": "markdown",
      "metadata": {
        "id": "view-in-github",
        "colab_type": "text"
      },
      "source": [
        "<a href=\"https://colab.research.google.com/github/vinayshanbhag/Colaboratory/blob/master/Latex_Quick_Reference.ipynb\" target=\"_parent\"><img src=\"https://colab.research.google.com/assets/colab-badge.svg\" alt=\"Open In Colab\"/></a>"
      ]
    },
    {
      "cell_type": "markdown",
      "metadata": {
        "id": "8XJTAGkHmnwJ",
        "colab_type": "text"
      },
      "source": [
        "# Latex Quick Reference"
      ]
    },
    {
      "cell_type": "markdown",
      "metadata": {
        "id": "QSMRlwMJp1H2",
        "colab_type": "text"
      },
      "source": [
        "## Letters and Symbols\n",
        "|Command|Output| |Command|Output|\n",
        "|--|--|--|--|--|\n",
        "|\\alpha|$\\alpha$||\\nu|$\\nu$|\n",
        "|\\beta|$\\beta$||\\xi|$\\xi$|\n",
        "|\\gamma|$\\gamma$||\\pi|$\\pi$|\n",
        "|\\delta|$\\delta$||\\phi|$\\phi$|\n",
        "|\\epsilon|$\\epsilon$||\\rho|$\\rho$|\n",
        "|\\zeta|$\\zeta$||\\sigma|$\\sigma$|\n",
        "|\\eta|$\\eta$||\\tau|$\\tau$|\n",
        "|\\theta|$\\theta$||\\upsilon|$\\upsilon$|\n",
        "|\\iota|$\\iota$||\\chi|$\\chi$|\n",
        "|\\kappa|$\\kappa$||\\psi|$\\psi$|\n",
        "|\\lambda|$\\lambda$||\\omega|$\\omega$|\n",
        "|\\mu|$\\mu$||\\omicron|$\\omicron$|\n",
        "|\\infty|$\\infty$||\\vec {v}|$\\vec {v}$|\n",
        "|a^{\\prime}|$a^{\\prime}$||\\hat{j}|$\\hat{j}$|\n",
        "|\\bar{i}|$\\bar{i}$||\\dot{a}|$\\dot{a}$|\n",
        "|\\circ|$\\circ$||\\dots|$\\dots$|\n",
        "|\\vdots|$\\vdots$||\\ddots|$\\ddots$|\n"
      ]
    },
    {
      "cell_type": "markdown",
      "metadata": {
        "id": "enpG9IaCp85w",
        "colab_type": "text"
      },
      "source": [
        "## Operators\n",
        "\n",
        "|Command|Output| |Command|Output|\n",
        "|--|--|--|--|--|\n",
        "|\\times|$\\times$||\\cdot|$\\cdot$|\n",
        "|\\div|$\\div$||\\pm|$\\pm$|\n",
        "|\\neq|$\\neq$||\\leq|$\\leq$|\n",
        "|\\lt|$\\lt$||\\ll|$\\ll$|\n",
        "|\\geq|$\\geq$||\\gt|$\\gt$|\n",
        "|\\gg|$\\gg$||\\approx|$\\approx$|\n"
      ]
    },
    {
      "cell_type": "markdown",
      "metadata": {
        "id": "wbMPRG8Ht3Zy",
        "colab_type": "text"
      },
      "source": [
        "## Sets\n",
        "\n",
        "|Command|Output| |Command|Output|\n",
        "|--|--|--|--|--|\n",
        "|\\mathbb{R}|$\\mathbb{R}$||\\mathbb{Q}|$\\mathbb{Q}$|\n",
        "|\\mathbb{Z}|$\\mathbb{Z}$||\\mathbb{N}|$\\mathbb{N}$|\n",
        "|\\mathbb{I}|$\\mathbb{I}$||\\mathbb{C}|$\\mathbb{C}$|\n",
        "|\\in|$\\in$||\\notin|$\\notin$|\n",
        "|\\subset|$\\subset$||\\subseteq|$\\subseteq$|\n",
        "|\\supset|$\\supset$||\\supseteq|$\\supseteq$|\n",
        "|\\emptyset|$\\emptyset$||\\leftrightarrow|$\\leftrightarrow$|\n",
        "|\\Leftrightarrow|$\\Leftrightarrow$||\\Leftarrow|$\\Leftarrow$|\n",
        "|\\rightarrow|$\\rightarrow$||\\Rightarrow|$\\Rightarrow$|\n",
        "|\\cup|$\\cup$||\\cap|$\\cap$|"
      ]
    },
    {
      "cell_type": "markdown",
      "metadata": {
        "id": "jZjvQ5T-vrrz",
        "colab_type": "text"
      },
      "source": [
        "## Exponents, Indices and Fractions\n",
        "\n",
        "|Command|Output| |Command|Output|\n",
        "|--|--|--|--|--|\n",
        "|x^2|$x^2$||x_2|$x_2$|\n",
        "|x_2^3|$x_2^3$||x^{10}|$x^{10}$|\n",
        "|x_{10}^{11}|$x_{10}^{11}$||\\frac{1}{10}|$\\frac{1}{10}$|\n",
        "|x_{i}^{\\frac{1}{10}}|$x_{i}^{\\frac{1}{10}}$||\\frac{1}{\\frac{1}{10}}|$\\frac{1}{\\frac{1}{10}}$|\n",
        "|\\sqrt{9}|$\\sqrt{9}$||\\sqrt[3]{27}|$\\sqrt[3]{27}$|"
      ]
    },
    {
      "cell_type": "markdown",
      "metadata": {
        "id": "X5Xdypwv2wZR",
        "colab_type": "text"
      },
      "source": [
        "## Matrices and Determinants\n",
        "\n",
        "$\\begin{matrix}\n",
        "1&0&0\\\\\n",
        "0&1&0\\\\\n",
        "0&0&1\\\\\n",
        "\\end{matrix}$\n"
      ]
    },
    {
      "cell_type": "markdown",
      "metadata": {
        "id": "KgcQ9Wj08_8T",
        "colab_type": "text"
      },
      "source": [
        "$\\begin{bmatrix}\n",
        "1&0&0\\\\\n",
        "0&1&0\\\\\n",
        "0&0&1\\\\\n",
        "\\end{bmatrix}$\n"
      ]
    },
    {
      "cell_type": "markdown",
      "metadata": {
        "id": "7CO5dwsf9CqP",
        "colab_type": "text"
      },
      "source": [
        "$\\begin{vmatrix}\n",
        "1&0&0\\\\\n",
        "0&1&0\\\\\n",
        "0&0&1\\\\\n",
        "\\end{vmatrix}$"
      ]
    },
    {
      "cell_type": "markdown",
      "metadata": {
        "id": "4JVo6Blm9GN3",
        "colab_type": "text"
      },
      "source": [
        "$\\begin{pmatrix}\n",
        "1&0&0\\\\\n",
        "0&1&0\\\\\n",
        "0&0&1\\\\\n",
        "\\end{pmatrix}$"
      ]
    },
    {
      "cell_type": "markdown",
      "metadata": {
        "id": "EoMKjweA9KIV",
        "colab_type": "text"
      },
      "source": [
        "\n",
        "$\\begin{equation}\n",
        "\\det\n",
        "\\begin{pmatrix}\n",
        "1&0&0\\\\\n",
        "0&1&0\\\\\n",
        "0&0&1\\\\\n",
        "\\end{pmatrix}\n",
        "\\end{equation}$\n"
      ]
    },
    {
      "cell_type": "markdown",
      "metadata": {
        "id": "I78FDDZC8l-H",
        "colab_type": "text"
      },
      "source": [
        "$A_{m,n} = \n",
        " \\begin{pmatrix}\n",
        "  a_{1,1} & a_{1,2} & \\cdots & a_{1,n} \\\\\n",
        "  a_{2,1} & a_{2,2} & \\cdots & a_{2,n} \\\\\n",
        "  \\vdots  & \\vdots  & \\ddots & \\vdots  \\\\\n",
        "  a_{m,1} & a_{m,2} & \\cdots & a_{m,n} \n",
        " \\end{pmatrix}$"
      ]
    },
    {
      "cell_type": "markdown",
      "metadata": {
        "id": "SzY-Z5_H4pnR",
        "colab_type": "text"
      },
      "source": [
        "## Sum and Product\n",
        "\n",
        "$\\sum_{i=1}^n \\frac{1}{i}$\n",
        "\n",
        "$\\prod_{i=1}^n \\frac{1}{i}$\n"
      ]
    },
    {
      "cell_type": "markdown",
      "metadata": {
        "id": "dfByXQsL0Yzv",
        "colab_type": "text"
      },
      "source": [
        "## Other\n",
        "\n",
        "|Command|Output| |Command|Output|\n",
        "|--|--|--|--|--|\n",
        "|\\therefore|$\\therefore$||\\because|$\\because$|\n",
        "|\\forall|$\\forall$||\\implies|$\\implies$|\n",
        "\n",
        "\n",
        "$\\| \\vec v\\|$\n",
        "\n",
        "$|a|$"
      ]
    }
  ]
}