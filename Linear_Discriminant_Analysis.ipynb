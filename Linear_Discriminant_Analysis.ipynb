{
  "nbformat": 4,
  "nbformat_minor": 0,
  "metadata": {
    "colab": {
      "name": "Linear Discriminant Analysis.ipynb",
      "provenance": [],
      "collapsed_sections": [],
      "authorship_tag": "ABX9TyPcefGZsGfOKWYpzor+bJVw",
      "include_colab_link": true
    },
    "kernelspec": {
      "name": "python3",
      "display_name": "Python 3"
    }
  },
  "cells": [
    {
      "cell_type": "markdown",
      "metadata": {
        "id": "view-in-github",
        "colab_type": "text"
      },
      "source": [
        "<a href=\"https://colab.research.google.com/github/vinayshanbhag/math/blob/master/Linear_Discriminant_Analysis.ipynb\" target=\"_parent\"><img src=\"https://colab.research.google.com/assets/colab-badge.svg\" alt=\"Open In Colab\"/></a>"
      ]
    },
    {
      "cell_type": "code",
      "metadata": {
        "id": "lpnOylaqIQjj",
        "colab_type": "code",
        "colab": {}
      },
      "source": [
        "from sklearn.datasets import load_wine"
      ],
      "execution_count": 1,
      "outputs": []
    },
    {
      "cell_type": "code",
      "metadata": {
        "id": "KmYdFuMbIeC_",
        "colab_type": "code",
        "colab": {
          "base_uri": "https://localhost:8080/",
          "height": 34
        },
        "outputId": "f777cba7-558a-4cae-882f-d4734d8f8461"
      },
      "source": [
        "X, y = load_wine(return_X_y=True)\n",
        "X.shape, y.shape"
      ],
      "execution_count": 6,
      "outputs": [
        {
          "output_type": "execute_result",
          "data": {
            "text/plain": [
              "((178, 13), (178,))"
            ]
          },
          "metadata": {
            "tags": []
          },
          "execution_count": 6
        }
      ]
    },
    {
      "cell_type": "code",
      "metadata": {
        "id": "upLVxhSZRUso",
        "colab_type": "code",
        "colab": {
          "base_uri": "https://localhost:8080/",
          "height": 87
        },
        "outputId": "2bffcb4f-6c41-4342-fe5c-f582a16fbc6b"
      },
      "source": [
        "from sklearn.model_selection import train_test_split\n",
        "X_train, X_test, y_train, y_test = train_test_split(X,y, test_size=0.3, stratify=y,random_state=1)\n",
        "print(\"X_train.shape:\",X_train.shape,\"\\ny_train.shape:\",y_train.shape,\"\\nX_test.shape:\",X_test.shape,\"\\ny_test.shape:\",y_test.shape)"
      ],
      "execution_count": 9,
      "outputs": [
        {
          "output_type": "stream",
          "text": [
            "X_train.shape: (124, 13) \n",
            "y_train.shape: (124,) \n",
            "X_test.shape: (54, 13) \n",
            "y_test.shape: (54,)\n"
          ],
          "name": "stdout"
        }
      ]
    },
    {
      "cell_type": "markdown",
      "metadata": {
        "id": "Ot-wuGDYSHvg",
        "colab_type": "text"
      },
      "source": [
        "### Scale features\n",
        "$X_{std} = \\frac{(X - \\mu)}{\\sigma}$"
      ]
    },
    {
      "cell_type": "code",
      "metadata": {
        "id": "it3qdh0mRdDt",
        "colab_type": "code",
        "colab": {}
      },
      "source": [
        "from sklearn.preprocessing import StandardScaler\n",
        "ss = StandardScaler()\n",
        "X_train_std = ss.fit_transform(X_train)\n",
        "X_test_std = ss.transform(X_test)"
      ],
      "execution_count": 10,
      "outputs": []
    },
    {
      "cell_type": "markdown",
      "metadata": {
        "id": "zWfmgplDSUDC",
        "colab_type": "text"
      },
      "source": [
        "### Mean vector for each class\n",
        "\n",
        "Feature-wise mean across standardized training samples by each output class"
      ]
    },
    {
      "cell_type": "code",
      "metadata": {
        "id": "r1klZBbSSO1x",
        "colab_type": "code",
        "colab": {
          "base_uri": "https://localhost:8080/",
          "height": 105
        },
        "outputId": "75a7bd11-f0b2-4a47-e7c1-4b153d497b62"
      },
      "source": [
        "import numpy as np\n",
        "mean_vecs=np.asarray([X_train_std[y_train==label].mean(axis=0) for label in np.unique(y_train)])\n",
        "print(\"shape of mean vectors\",mean_vecs.shape)\n",
        "print(\"mean_vecs[0]:\\n\",mean_vecs[0])"
      ],
      "execution_count": 19,
      "outputs": [
        {
          "output_type": "stream",
          "text": [
            "shape of mean vectors (3, 13)\n",
            "mean_vecs[0]:\n",
            " [ 0.89976216 -0.35996329  0.30103147 -0.74304582  0.46792414  0.91761752\n",
            "  0.98085519 -0.6287134   0.64032575  0.20178957  0.49581041  0.76416637\n",
            "  1.16973167]\n"
          ],
          "name": "stdout"
        }
      ]
    },
    {
      "cell_type": "markdown",
      "metadata": {
        "id": "KgiXFEMETj5a",
        "colab_type": "text"
      },
      "source": [
        "### Within class scatter matrix\n",
        "\n",
        "Within class scatter matrix is defined as-\n",
        "\n",
        "$S_W = \\displaystyle\\sum_{i=1}^{c} S_i$\n",
        "\n",
        "where $i$ represents individual class and \n",
        "\n",
        "$S_i$ is the individual scatter matrix of class $i$ and is defined as-\n",
        "\n",
        "$S_i = \\frac{1}{n_i}\\displaystyle\\sum_{x \\in D_i} (x-m_i)(x-m_i)^T$\n",
        "\n",
        "where \n",
        "\n",
        "$n_i$ is the number of samples of class $i$\n",
        "\n",
        "$m_i$ is the mean vector of class $i$ and\n",
        "\n",
        "$x$ is a vector, a sample from class $i$ of $D$ features.\n",
        "\n",
        "$S_i \\in \\mathbb{R}^{D \\mathbb{x} D}$\n",
        "\n",
        "$S_W \\in \\mathbb{R}^{D \\mathbb{x} D}$\n",
        "\n",
        "$S_W$ is a measure of how samples within a class are spread"
      ]
    },
    {
      "cell_type": "code",
      "metadata": {
        "id": "RI9cselzTi9L",
        "colab_type": "code",
        "colab": {
          "base_uri": "https://localhost:8080/",
          "height": 34
        },
        "outputId": "89eceeb4-549c-4aea-9aaa-d1e35a965dfa"
      },
      "source": [
        "d = X_train_std.shape[1] # Number of features\n",
        "S_W = np.zeros((d,d)) # Initialize to zeros\n",
        "for label, mv in zip(np.unique(y_train), mean_vecs):\n",
        "  class_scatter = np.zeros((d,d))\n",
        "  for row in X_train_std[y_train==label]:\n",
        "    row, mv = row.reshape(d,1), mv.reshape(d,1)\n",
        "    class_scatter += (row-mv).dot((row-mv).T)\n",
        "  class_scatter = class_scatter/len(X_train_std[y_train==label])\n",
        "  S_W += class_scatter\n",
        "print(\"S_W.shape:\",S_W.shape)"
      ],
      "execution_count": 31,
      "outputs": [
        {
          "output_type": "stream",
          "text": [
            "S_W.shape: (13, 13)\n"
          ],
          "name": "stdout"
        }
      ]
    },
    {
      "cell_type": "markdown",
      "metadata": {
        "id": "i5wWOB5McY4R",
        "colab_type": "text"
      },
      "source": [
        "### Between class scatter matrix\n",
        "\n",
        "Between class scatter matrix is defined as-\n",
        "\n",
        "$S_B = \\displaystyle\\sum_{i=1}^{c} n_i(m_i-m)(m_i-m)^T$\n",
        "\n",
        "where $i$ represents individual class and \n",
        "\n",
        "$n_i$ is the number of samples of class $i$\n",
        "\n",
        "$m_i$ is the mean vector of class $i$, \\$m_i \\in \\mathbb{R}^{D \\mathbb{x} 1}$ and\n",
        "\n",
        "$m$ is the overall mean vector across all classes, \\$m \\in \\mathbb{R}^{D \\mathbb{x} 1}$\n",
        "\n",
        "$S_B \\in \\mathbb{R}^{D \\mathbb{x} D}$\n",
        "\n",
        "$S_B$ is a measure of how samples across classes are spread"
      ]
    },
    {
      "cell_type": "code",
      "metadata": {
        "id": "QtQjMAEESpQi",
        "colab_type": "code",
        "colab": {
          "base_uri": "https://localhost:8080/",
          "height": 87
        },
        "outputId": "b0fd3392-5f89-49a4-92a5-e0986e6d4d7e"
      },
      "source": [
        "d = X_train_std.shape[1] # Number of features\n",
        "overall_mean = np.mean(X_train_std, axis=0).reshape(d,1) # overall mean feature vector across all classes\n",
        "S_B = np.zeros((d,d)) # Initialize to zeros\n",
        "for label, mean_vec in zip(np.unique(y_train), mean_vecs):\n",
        "  n = X_train_std[y_train==label].shape[0]\n",
        "  print(f\"Samples in class {label}: {n}\")\n",
        "  mean_vec=mean_vec.reshape(d,1)\n",
        "  S_B += n*(mean_vec-overall_mean).dot((mean_vec-overall_mean).T)\n",
        "print(\"S_B.shape:\",S_B.shape)"
      ],
      "execution_count": 36,
      "outputs": [
        {
          "output_type": "stream",
          "text": [
            "Samples in class 0: 41\n",
            "Samples in class 1: 50\n",
            "Samples in class 2: 33\n",
            "S_B.shape: (13, 13)\n"
          ],
          "name": "stdout"
        }
      ]
    },
    {
      "cell_type": "markdown",
      "metadata": {
        "id": "W8OSSPXLf-eo",
        "colab_type": "text"
      },
      "source": [
        "### Eigen Decomposition of $S_W^{-1} \\cdot S_B$\n",
        "\n",
        "Compute $S_W^{-1} \\cdot S_B$\n",
        "\n",
        "Eigen decompose\n",
        "\n",
        "Sort Eigen values in descending order\n",
        "\n",
        "Pick the top 2 eigen values and associated eigen vectors"
      ]
    },
    {
      "cell_type": "code",
      "metadata": {
        "id": "ugvFYEPrYTUE",
        "colab_type": "code",
        "colab": {}
      },
      "source": [
        "eigen_values, eigen_vectors = np.linalg.eig(np.linalg.inv(S_W).dot(S_B))"
      ],
      "execution_count": 47,
      "outputs": []
    },
    {
      "cell_type": "code",
      "metadata": {
        "id": "i439yv0uf51V",
        "colab_type": "code",
        "colab": {}
      },
      "source": [
        "eigen_pairs = [(np.abs(eigen_values[i]), eigen_vectors[:,i]) for i in range(len(eigen_values))]\n",
        "#eigen_pairs"
      ],
      "execution_count": 48,
      "outputs": []
    },
    {
      "cell_type": "code",
      "metadata": {
        "id": "jlBkuwg5iC-X",
        "colab_type": "code",
        "colab": {
          "base_uri": "https://localhost:8080/",
          "height": 263
        },
        "outputId": "8d098bc4-7bcb-4cb9-d261-29c08bccc9d1"
      },
      "source": [
        "eigen_pairs = sorted(eigen_pairs, key=lambda k:k[0], reverse=True)\n",
        "print(\"Sorted eigen values:\")\n",
        "[print(f\"{v[0]:0.2e}\") for v in eigen_pairs];"
      ],
      "execution_count": 64,
      "outputs": [
        {
          "output_type": "stream",
          "text": [
            "Sorted eigen values:\n",
            "4.06e+02\n",
            "1.89e+02\n",
            "4.53e-14\n",
            "2.85e-14\n",
            "2.84e-14\n",
            "2.62e-14\n",
            "1.67e-14\n",
            "1.67e-14\n",
            "7.95e-15\n",
            "7.95e-15\n",
            "6.57e-15\n",
            "6.57e-15\n",
            "1.69e-15\n"
          ],
          "name": "stdout"
        }
      ]
    },
    {
      "cell_type": "markdown",
      "metadata": {
        "id": "9FMB9IGUj4L6",
        "colab_type": "text"
      },
      "source": [
        "### Class discrimanatory information in linear discriminants"
      ]
    },
    {
      "cell_type": "code",
      "metadata": {
        "id": "fEgak0u7isuV",
        "colab_type": "code",
        "colab": {}
      },
      "source": [
        "total_value = eigen_values.real.sum()\n",
        "disc = [i[0]/total_value for i in eigen_pairs]\n",
        "cum_disc = np.cumsum(disc)"
      ],
      "execution_count": 80,
      "outputs": []
    },
    {
      "cell_type": "code",
      "metadata": {
        "id": "ZRyRbmcskIHD",
        "colab_type": "code",
        "colab": {
          "base_uri": "https://localhost:8080/",
          "height": 297
        },
        "outputId": "3e5b31d0-3529-45da-df21-2052c9797c84"
      },
      "source": [
        "import matplotlib.pyplot as plt\n",
        "%matplotlib inline\n",
        "plt.bar(range(1,d+1), disc, align='center', label='individual discriminability');\n",
        "plt.step(range(1,d+1), cum_disc, where='mid',label=\"cumulative discriminability\");\n",
        "plt.xlabel('Linear discriminant')\n",
        "plt.ylabel('Discriminability ratio')\n",
        "plt.legend();\n",
        "plt.tight_layout();"
      ],
      "execution_count": 84,
      "outputs": [
        {
          "output_type": "display_data",
          "data": {
            "image/png": "[encoded data removed]",
            "text/plain": [
              "<Figure size 432x288 with 1 Axes>"
            ]
          },
          "metadata": {
            "tags": [],
            "needs_background": "light"
          }
        }
      ]
    },
    {
      "cell_type": "markdown",
      "metadata": {
        "id": "CW2yjVtZmZdM",
        "colab_type": "text"
      },
      "source": [
        "### Transformation matrix $W$\n",
        "\n",
        "Stack eigen vector columns corresponding to the top 2 eigen values\n",
        "\n",
        "$W \\in \\mathbb{R}^{D \\mathbb{x} 2}$"
      ]
    },
    {
      "cell_type": "code",
      "metadata": {
        "id": "zfcsIqluk4LE",
        "colab_type": "code",
        "colab": {
          "base_uri": "https://localhost:8080/",
          "height": 246
        },
        "outputId": "b25598c3-5fa6-455c-bcac-915fd1a4db96"
      },
      "source": [
        "w = np.hstack((eigen_pairs[0][1][:,np.newaxis].real, eigen_pairs[1][1][:,np.newaxis].real))\n",
        "w.shape, w"
      ],
      "execution_count": 88,
      "outputs": [
        {
          "output_type": "execute_result",
          "data": {
            "text/plain": [
              "((13, 2), array([[-0.14064935, -0.42024575],\n",
              "        [ 0.06040622, -0.12190987],\n",
              "        [ 0.00618927, -0.34261309],\n",
              "        [ 0.23347392,  0.27281116],\n",
              "        [-0.01211356, -0.02768843],\n",
              "        [ 0.18784007, -0.08858725],\n",
              "        [-0.74681383,  0.45372455],\n",
              "        [-0.09170678,  0.14531902],\n",
              "        [ 0.01429136,  0.06746305],\n",
              "        [ 0.28723517, -0.22447077],\n",
              "        [-0.10697632,  0.21007505],\n",
              "        [-0.35276484, -0.00293714],\n",
              "        [-0.31914504, -0.53107943]]))"
            ]
          },
          "metadata": {
            "tags": []
          },
          "execution_count": 88
        }
      ]
    },
    {
      "cell_type": "markdown",
      "metadata": {
        "id": "HMGDlX5oneM8",
        "colab_type": "text"
      },
      "source": [
        "### Project features from training data to the two new linear discriminants\n",
        "\n",
        "$X^{'} = X \\cdot W$\n",
        "\n",
        "$X \\in \\mathbb{R}^{n \\mathbb{x} D}$\n",
        "\n",
        "$W \\in \\mathbb{R}^{D \\mathbb{x} 2}$\n",
        "\n",
        "$X^{'} \\in \\mathbb{R}^{n \\mathbb{x} 2}$"
      ]
    },
    {
      "cell_type": "code",
      "metadata": {
        "id": "XkfJhlfknTaE",
        "colab_type": "code",
        "colab": {
          "base_uri": "https://localhost:8080/",
          "height": 34
        },
        "outputId": "e631f8a1-0116-4560-f2ae-c25c81f1e262"
      },
      "source": [
        "X_train_lda = X_train_std.dot(w)\n",
        "X_train_lda.shape"
      ],
      "execution_count": 90,
      "outputs": [
        {
          "output_type": "execute_result",
          "data": {
            "text/plain": [
              "(124, 2)"
            ]
          },
          "metadata": {
            "tags": []
          },
          "execution_count": 90
        }
      ]
    },
    {
      "cell_type": "code",
      "metadata": {
        "id": "7MNp2E3fnWfn",
        "colab_type": "code",
        "colab": {
          "base_uri": "https://localhost:8080/",
          "height": 297
        },
        "outputId": "4ef6c3dd-60a3-417b-dced-dbdd6f25ae82"
      },
      "source": [
        "colors=list('rbg')\n",
        "markers=list('sxo')\n",
        "for label, color, marker in zip(np.unique(y_train), colors, markers):\n",
        "  plt.scatter(X_train_lda[y_train==label,0],\n",
        "              X_train_lda[y_train==label,1]*-1,\n",
        "              c=color,marker=marker, label=label\n",
        "              )\n",
        "plt.xlabel('Linear Discriminant 1')\n",
        "plt.ylabel('Linear Discriminant 2')\n",
        "plt.legend(loc='lower right')\n",
        "plt.tight_layout()"
      ],
      "execution_count": 91,
      "outputs": [
        {
          "output_type": "display_data",
          "data": {
            "image/png": "[encoded data removed]",
            "text/plain": [
              "<Figure size 432x288 with 1 Axes>"
            ]
          },
          "metadata": {
            "tags": [],
            "needs_background": "light"
          }
        }
      ]
    },
    {
      "cell_type": "code",
      "metadata": {
        "id": "WoPRxYripY-l",
        "colab_type": "code",
        "colab": {}
      },
      "source": [
        ""
      ],
      "execution_count": null,
      "outputs": []
    }
  ]
}